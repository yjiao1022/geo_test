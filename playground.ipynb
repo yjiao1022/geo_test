{
 "cells": [
  {
   "cell_type": "markdown",
   "metadata": {},
   "source": [
    "# Geo-Experiment Playground\n",
    "\n",
    "This notebook provides an interactive environment for experimenting with the geo-experiment evaluation framework.\n",
    "\n",
    "## Setup"
   ]
  },
  {
   "cell_type": "code",
   "execution_count": 1,
   "metadata": {},
   "outputs": [
    {
     "name": "stdout",
     "output_type": "stream",
     "text": [
      "✅ All modules imported successfully!\n",
      "📊 Available assignment methods:\n",
      "  • RandomAssignment: Simple random assignment\n",
      "  • KMeansEmbeddingAssignment: K-means clustering on features\n",
      "  • PrognosticScoreAssignment: OLS-based prognostic scoring\n",
      "  • EmbeddingBasedAssignment: General embedding approach (neural + spatial)\n",
      "  • HybridEmbeddingAssignment: Semi-supervised prediction-aware assignment\n",
      "\n",
      "🧠 Available reporting models:\n",
      "  • MeanMatchingModel: Simple control group mean\n",
      "  • GBRModel: Geo-Based Regression\n",
      "  • TBRModel: Time-Based Regression\n",
      "  • SyntheticControlModel: Classical synthetic control\n",
      "  • STGCNReportingModel: Spatio-Temporal Graph Neural Network\n"
     ]
    }
   ],
   "source": [
    "import numpy as np\n",
    "import pandas as pd\n",
    "import matplotlib.pyplot as plt\n",
    "import seaborn as sns\n",
    "\n",
    "# Import our modules\n",
    "from data_simulation.generators import SimpleNullGenerator, DataConfig\n",
    "from assignment.methods import RandomAssignment, KMeansEmbeddingAssignment, PrognosticScoreAssignment, EmbeddingBasedAssignment, HybridEmbeddingAssignment\n",
    "from assignment.spatial_utils import add_spectral_spatial_embedding\n",
    "from assignment.stratified_utils import stratified_assignment_within_clusters, evaluate_cluster_balance, print_balance_summary\n",
    "from reporting.models import MeanMatchingModel, GBRModel, TBRModel, SyntheticControlModel\n",
    "from reporting import STGCNReportingModel\n",
    "from evaluation.metrics import EvaluationRunner, EvaluationConfig\n",
    "from diagnostics.plots import DiagnosticPlotter\n",
    "from pipeline.runner import ExperimentRunner\n",
    "from pipeline.config import ExperimentConfig\n",
    "\n",
    "# Set style\n",
    "plt.style.use('default')\n",
    "sns.set_palette('husl')\n",
    "\n",
    "print(\"✅ All modules imported successfully!\")\n",
    "print(\"📊 Available assignment methods:\")\n",
    "print(\"  • RandomAssignment: Simple random assignment\")\n",
    "print(\"  • KMeansEmbeddingAssignment: K-means clustering on features\")\n",
    "print(\"  • PrognosticScoreAssignment: OLS-based prognostic scoring\")\n",
    "print(\"  • EmbeddingBasedAssignment: General embedding approach (neural + spatial)\")\n",
    "print(\"  • HybridEmbeddingAssignment: Semi-supervised prediction-aware assignment\")\n",
    "print(\"\\n🧠 Available reporting models:\")\n",
    "print(\"  • MeanMatchingModel: Simple control group mean\")\n",
    "print(\"  • GBRModel: Geo-Based Regression\")\n",
    "print(\"  • TBRModel: Time-Based Regression\")\n",
    "print(\"  • SyntheticControlModel: Classical synthetic control\")\n",
    "print(\"  • STGCNReportingModel: Spatio-Temporal Graph Neural Network\")"
   ]
  },
  {
   "cell_type": "markdown",
   "metadata": {},
   "source": [
    "## Quick Start: Single Experiment\n",
    "\n",
    "Let's start with a simple single experiment to understand the framework."
   ]
  },
  {
   "cell_type": "code",
   "execution_count": null,
   "metadata": {},
   "outputs": [],
   "source": [
    "# Create a simple configuration\n",
    "config = ExperimentConfig(\n",
    "    n_geos=20,\n",
    "    n_days=60,\n",
    "    pre_period_days=40,\n",
    "    eval_period_days=20,\n",
    "    seed=42\n",
    ")\n",
    "\n",
    "# Run a single experiment\n",
    "runner = ExperimentRunner(config)\n",
    "results = runner.run_single_experiment(show_plots=True)\n",
    "\n",
    "print(f\"\\n📊 Single Experiment Results:\")\n",
    "print(f\"iROAS Estimate: {results['iroas_estimate']:.4f}\")\n",
    "print(f\"95% CI: [{results['iroas_ci'][0]:.4f}, {results['iroas_ci'][1]:.4f}]\")\n",
    "print(f\"CI Width: {results['ci_width']:.4f}\")\n",
    "print(f\"Significant: {results['significant']}\")"
   ]
  },
  {
   "cell_type": "markdown",
   "metadata": {},
   "source": [
    "## Full Evaluation Example\n",
    "\n",
    "Now let's run a complete evaluation across multiple simulations to see how the method performs statistically."
   ]
  },
  {
   "cell_type": "code",
   "execution_count": null,
   "metadata": {},
   "outputs": [],
   "source": [
    "# Run a full evaluation with the same configuration\n",
    "# Using smaller numbers for faster execution in the playground\n",
    "full_eval_config = ExperimentConfig(\n",
    "    n_geos=30,           # Moderate number of geos\n",
    "    n_days=60,           # 60 days total\n",
    "    pre_period_days=40,  # 40 days for training\n",
    "    eval_period_days=20, # 20 days for evaluation\n",
    "    n_simulations=50,    # 50 simulations (increase for more robust results)\n",
    "    n_bootstrap=200,     # 200 bootstrap samples per simulation\n",
    "    seed=42\n",
    ")\n",
    "\n",
    "print(\"🔄 Running full evaluation (this may take a minute)...\")\n",
    "print(f\"Configuration: {full_eval_config.n_simulations} simulations, {full_eval_config.n_geos} geos each\")\n",
    "\n",
    "# Create runner and run evaluation\n",
    "eval_runner = ExperimentRunner(full_eval_config)\n",
    "\n",
    "# Add all reporting models for comparison\n",
    "eval_runner.add_reporting_method('GBR', GBRModel())\n",
    "eval_runner.add_reporting_method('TBR', TBRModel())\n",
    "eval_runner.add_reporting_method('SCM', SyntheticControlModel())\n",
    "\n",
    "detailed_results, summary_results = eval_runner.run_full_evaluation(verbose=True)\n",
    "\n",
    "print(\"\\n📈 Summary Results:\")\n",
    "print(summary_results)\n",
    "\n",
    "# Create visualization\n",
    "print(\"\\n📊 Creating results visualization...\")\n",
    "fig = eval_runner.plot_results(detailed_results)\n",
    "plt.show()\n",
    "\n",
    "# Additional insights\n",
    "print(f\"\\n🔍 Key Insights:\")\n",
    "print(f\"• Average iROAS estimate: {detailed_results['iroas_estimate'].mean():.4f}\")\n",
    "print(f\"• Standard deviation of estimates: {detailed_results['iroas_estimate'].std():.4f}\")\n",
    "print(f\"• False positive rate: {summary_results['false_positive_rate'].iloc[0]:.3f} (should be ~0.05)\")\n",
    "print(f\"• Coverage rate: {summary_results['coverage_rate'].iloc[0]:.3f} (should be ~0.95)\")\n",
    "print(f\"• Mean CI width: {summary_results['mean_ci_width'].iloc[0]:.4f}\")\n",
    "\n",
    "# Show distribution of estimates\n",
    "plt.figure(figsize=(10, 6))\n",
    "plt.subplot(1, 2, 1)\n",
    "plt.hist(detailed_results['iroas_estimate'], bins=20, alpha=0.7, edgecolor='black')\n",
    "plt.axvline(0, color='red', linestyle='--', label='True iROAS (0)')\n",
    "plt.xlabel('iROAS Estimate')\n",
    "plt.ylabel('Frequency')\n",
    "plt.title('Distribution of iROAS Estimates')\n",
    "plt.legend()\n",
    "\n",
    "plt.subplot(1, 2, 2)\n",
    "plt.hist(detailed_results['ci_width'], bins=20, alpha=0.7, edgecolor='black', color='orange')\n",
    "plt.xlabel('Confidence Interval Width')\n",
    "plt.ylabel('Frequency')\n",
    "plt.title('Distribution of CI Widths')\n",
    "\n",
    "plt.tight_layout()\n",
    "plt.show()"
   ]
  },
  {
   "cell_type": "markdown",
   "metadata": {},
   "source": [
    "## Data Generation Experiments\n",
    "\n",
    "Let's experiment with different data generation parameters."
   ]
  },
  {
   "cell_type": "code",
   "execution_count": null,
   "metadata": {},
   "outputs": [],
   "source": [
    "# Generate data with different noise levels\n",
    "low_noise_config = DataConfig(\n",
    "    n_geos=30,\n",
    "    n_days=90,\n",
    "    daily_sales_noise=100,  # Low noise\n",
    "    seed=123\n",
    ")\n",
    "\n",
    "high_noise_config = DataConfig(\n",
    "    n_geos=30,\n",
    "    n_days=90,\n",
    "    daily_sales_noise=1000,  # High noise\n",
    "    seed=123\n",
    ")\n",
    "\n",
    "# Generate both datasets\n",
    "low_noise_gen = SimpleNullGenerator(low_noise_config)\n",
    "high_noise_gen = SimpleNullGenerator(high_noise_config)\n",
    "\n",
    "panel_low, features_low = low_noise_gen.generate()\n",
    "panel_high, features_high = high_noise_gen.generate()\n",
    "\n",
    "# Compare variability\n",
    "fig, axes = plt.subplots(1, 2, figsize=(15, 5))\n",
    "\n",
    "# Plot time series for first geo\n",
    "geo_low = panel_low[panel_low['geo'] == 'geo_000']\n",
    "geo_high = panel_high[panel_high['geo'] == 'geo_000']\n",
    "\n",
    "axes[0].plot(geo_low['date'], geo_low['sales'], label='Low Noise', alpha=0.8)\n",
    "axes[0].plot(geo_high['date'], geo_high['sales'], label='High Noise', alpha=0.8)\n",
    "axes[0].set_title('Sales Time Series Comparison (geo_000)')\n",
    "axes[0].set_ylabel('Sales')\n",
    "axes[0].legend()\n",
    "axes[0].tick_params(axis='x', rotation=45)\n",
    "\n",
    "# Plot distributions\n",
    "axes[1].hist(panel_low['sales'], alpha=0.6, label='Low Noise', bins=30)\n",
    "axes[1].hist(panel_high['sales'], alpha=0.6, label='High Noise', bins=30)\n",
    "axes[1].set_title('Sales Distribution Comparison')\n",
    "axes[1].set_xlabel('Sales')\n",
    "axes[1].set_ylabel('Frequency')\n",
    "axes[1].legend()\n",
    "\n",
    "plt.tight_layout()\n",
    "plt.show()\n",
    "\n",
    "print(f\"Low noise std: {panel_low['sales'].std():.2f}\")\n",
    "print(f\"High noise std: {panel_high['sales'].std():.2f}\")"
   ]
  },
  {
   "cell_type": "markdown",
   "metadata": {},
   "source": [
    "## Assignment Method Testing\n",
    "\n",
    "Test different assignment strategies and their balance."
   ]
  },
  {
   "cell_type": "code",
   "execution_count": null,
   "metadata": {},
   "outputs": [],
   "source": [
    "# Comprehensive Assignment Method Comparison\n",
    "print(\"📊 COMPREHENSIVE ASSIGNMENT METHOD COMPARISON\")\n",
    "print(\"=\"*80)\n",
    "\n",
    "# Generate test data with all necessary features\n",
    "np.random.seed(42)\n",
    "test_geo_features = pd.DataFrame({\n",
    "    'geo': [f'geo_{i:03d}' for i in range(40)],\n",
    "    'base_sales': np.random.normal(12000, 4000, 40),\n",
    "    'base_spend': np.random.normal(6000, 2000, 40),\n",
    "    'covariate': np.random.normal(0, 1.5, 40),\n",
    "    'xy1': np.random.uniform(0, 100, 40),  # Spatial coordinates\n",
    "    'xy2': np.random.uniform(0, 100, 40)\n",
    "})\n",
    "\n",
    "# Create panel data for time-series methods\n",
    "dates = pd.date_range('2024-01-01', periods=60)\n",
    "test_panel_data = []\n",
    "for _, geo_row in test_geo_features.iterrows():\n",
    "    base_sales = geo_row['base_sales']\n",
    "    trend = np.random.normal(0, 50)\n",
    "    for day_idx, date in enumerate(dates):\n",
    "        sales = (base_sales + trend * day_idx + np.random.normal(0, 500) + \n",
    "                300 * np.sin(day_idx * 2 * np.pi / 7))  # Weekly seasonality\n",
    "        test_panel_data.append({\n",
    "            'geo': geo_row['geo'],\n",
    "            'date': date,\n",
    "            'sales': max(sales, 1000),\n",
    "            'spend_dollars': np.random.normal(5000, 1000)\n",
    "        })\n",
    "test_panel_df = pd.DataFrame(test_panel_data)\n",
    "\n",
    "print(f\"Dataset: {len(test_geo_features)} geos with {len(test_panel_df)} panel observations\")\n",
    "\n",
    "# Define all available assignment methods\n",
    "assignment_methods = {\n",
    "    'Random': {\n",
    "        'method': RandomAssignment(),\n",
    "        'description': 'Simple random assignment (baseline)',\n",
    "        'requires_panel': False,\n",
    "        'requires_spatial': False\n",
    "    },\n",
    "    'K-Means': {\n",
    "        'method': KMeansEmbeddingAssignment(n_clusters=5),\n",
    "        'description': 'K-means clustering on standardized features',\n",
    "        'requires_panel': False,\n",
    "        'requires_spatial': False\n",
    "    },\n",
    "    'Prognostic Score': {\n",
    "        'method': PrognosticScoreAssignment(n_strata=5),\n",
    "        'description': 'OLS-based prognostic scoring with stratification',\n",
    "        'requires_panel': True,\n",
    "        'requires_spatial': False\n",
    "    },\n",
    "    'Embedding-Based': {\n",
    "        'method': EmbeddingBasedAssignment(n_clusters=5, neural_epochs=15),\n",
    "        'description': 'Neural + spectral spatial embeddings',\n",
    "        'requires_panel': False,\n",
    "        'requires_spatial': True\n",
    "    },\n",
    "    'Hybrid Embedding': {\n",
    "        'method': HybridEmbeddingAssignment(n_clusters=5, neural_epochs=15),\n",
    "        'description': 'Semi-supervised: reconstruction + prediction loss',\n",
    "        'requires_panel': True,\n",
    "        'requires_spatial': True\n",
    "    }\n",
    "}\n",
    "\n",
    "# Create comprehensive comparison visualization\n",
    "fig, axes = plt.subplots(3, len(assignment_methods), figsize=(25, 15))\n",
    "\n",
    "print(\"\\n\" + \"=\"*80)\n",
    "print(\"🎯 ASSIGNMENT METHOD DETAILED COMPARISON\")\n",
    "print(\"=\"*80)\n",
    "\n",
    "balance_summary = {}\n",
    "for i, (method_name, method_info) in enumerate(assignment_methods.items()):\n",
    "    print(f\"\\n🔹 {method_name.upper()}:\")\n",
    "    print(f\"   {method_info['description']}\")\n",
    "    print(\"-\" * 60)\n",
    "    \n",
    "    try:\n",
    "        # Create assignment based on method requirements\n",
    "        if method_info['requires_panel'] and method_info['requires_spatial']:\n",
    "            # Hybrid embedding needs both\n",
    "            assignment_df = method_info['method'].assign(\n",
    "                test_geo_features, panel_data=test_panel_df, seed=42\n",
    "            )\n",
    "        elif method_info['requires_panel']:\n",
    "            # Prognostic score needs panel data\n",
    "            assignment_df = method_info['method'].assign(\n",
    "                test_geo_features[['geo', 'base_sales', 'base_spend', 'covariate']], \n",
    "                panel_data=test_panel_df, seed=42\n",
    "            )\n",
    "        elif method_info['requires_spatial']:\n",
    "            # Embedding-based needs spatial coordinates\n",
    "            assignment_df = method_info['method'].assign(test_geo_features, seed=42)\n",
    "        else:\n",
    "            # Random and K-means work with basic features\n",
    "            assignment_df = method_info['method'].assign(\n",
    "                test_geo_features[['geo', 'base_sales', 'base_spend', 'covariate']], seed=42\n",
    "            )\n",
    "        \n",
    "        # Merge for analysis\n",
    "        if method_info['requires_spatial']:\n",
    "            analysis_features = test_geo_features\n",
    "        else:\n",
    "            analysis_features = test_geo_features[['geo', 'base_sales', 'base_spend', 'covariate']]\n",
    "        \n",
    "        merged = analysis_features.merge(assignment_df, on='geo')\n",
    "        \n",
    "        # Print assignment summary\n",
    "        treatment_count = (assignment_df['assignment'] == 'treatment').sum()\n",
    "        control_count = (assignment_df['assignment'] == 'control').sum()\n",
    "        \n",
    "        print(f\"   Assignment: {treatment_count} treatment, {control_count} control\")\n",
    "        \n",
    "        # Handle cluster information\n",
    "        if 'cluster' not in assignment_df.columns:\n",
    "            assignment_df = assignment_df.copy()\n",
    "            assignment_df['cluster'] = 0  # Single cluster for methods without clustering\n",
    "            print(f\"   Structure: No clustering (all geos treated as single group)\")\n",
    "        else:\n",
    "            n_clusters = len(assignment_df['cluster'].unique())\n",
    "            cluster_dist = assignment_df['cluster'].value_counts().sort_index()\n",
    "            print(f\"   Structure: {n_clusters} clusters/strata\")\n",
    "            print(f\"   Distribution: {dict(cluster_dist)}\")\n",
    "        \n",
    "        # Evaluate balance\n",
    "        feature_cols = ['base_sales', 'base_spend', 'covariate']\n",
    "        balance_df = evaluate_cluster_balance(analysis_features, assignment_df, feature_cols)\n",
    "        \n",
    "        # Calculate balance metrics\n",
    "        overall_balance = balance_df[balance_df['cluster'] == 'Overall']\n",
    "        avg_smd = overall_balance['standardized_diff'].mean()\n",
    "        max_smd = overall_balance['standardized_diff'].max()\n",
    "        \n",
    "        balance_summary[method_name] = {\n",
    "            'avg_smd': avg_smd,\n",
    "            'max_smd': max_smd,\n",
    "            'treatment_count': treatment_count,\n",
    "            'control_count': control_count,\n",
    "            'n_clusters': len(assignment_df['cluster'].unique())\n",
    "        }\n",
    "        \n",
    "        # Print balance summary\n",
    "        print(f\"   Balance: Avg SMD = {avg_smd:.3f}, Max SMD = {max_smd:.3f}\")\n",
    "        balance_quality = (\"Excellent\" if avg_smd < 0.05 else \n",
    "                          \"Good\" if avg_smd < 0.1 else \n",
    "                          \"Moderate\" if avg_smd < 0.2 else \"Poor\")\n",
    "        print(f\"   Quality: {balance_quality} ({'✅' if avg_smd < 0.1 else '⚠️' if avg_smd < 0.2 else '❌'})\")\n",
    "        \n",
    "        # Visualization 1: Sales balance\n",
    "        sns.boxplot(data=merged, x='assignment', y='base_sales', ax=axes[0, i])\n",
    "        axes[0, i].set_title(f'{method_name}\\nSales Balance')\n",
    "        axes[0, i].set_ylabel('Base Sales' if i == 0 else '')\n",
    "        \n",
    "        # Visualization 2: Covariate balance with cluster information\n",
    "        if 'cluster' in assignment_df.columns and len(assignment_df['cluster'].unique()) > 1:\n",
    "            # Show clusters with different colors\n",
    "            palette = sns.color_palette(\"Set2\", n_colors=len(merged['cluster'].unique()))\n",
    "            sns.scatterplot(data=merged, x='assignment', y='covariate', \n",
    "                           hue='cluster', palette=palette, ax=axes[1, i], s=60, alpha=0.8)\n",
    "            axes[1, i].set_title(f'{method_name}\\nCovariate by Cluster')\n",
    "            if i < len(assignment_methods) - 1:  # Remove legend except for last plot\n",
    "                axes[1, i].get_legend().remove()\n",
    "        else:\n",
    "            sns.boxplot(data=merged, x='assignment', y='covariate', ax=axes[1, i])\n",
    "            axes[1, i].set_title(f'{method_name}\\nCovariate Balance')\n",
    "        axes[1, i].set_ylabel('Covariate' if i == 0 else '')\n",
    "        \n",
    "        # Visualization 3: Balance quality heatmap\n",
    "        balance_pivot = overall_balance.set_index('feature')['standardized_diff']\n",
    "        balance_matrix = balance_pivot.values.reshape(-1, 1)\n",
    "        \n",
    "        im = axes[2, i].imshow(balance_matrix, cmap='RdYlGn_r', aspect='auto', vmin=0, vmax=0.3)\n",
    "        axes[2, i].set_title(f'{method_name}\\nBalance Quality')\n",
    "        axes[2, i].set_yticks(range(len(feature_cols)))\n",
    "        axes[2, i].set_yticklabels(['Sales', 'Spend', 'Covariate'] if i == 0 else ['', '', ''])\n",
    "        axes[2, i].set_xticks([0])\n",
    "        axes[2, i].set_xticklabels(['SMD'])\n",
    "        \n",
    "        # Add text annotations\n",
    "        for j, val in enumerate(balance_matrix.flatten()):\n",
    "            color = 'white' if val > 0.15 else 'black'\n",
    "            axes[2, i].text(0, j, f'{val:.2f}', ha='center', va='center', color=color, fontweight='bold')\n",
    "    \n",
    "    except Exception as e:\n",
    "        print(f\"   ❌ Error: {str(e)}\")\n",
    "        balance_summary[method_name] = {'avg_smd': np.nan, 'error': str(e)}\n",
    "        \n",
    "        # Fill plots with error message\n",
    "        for row in range(3):\n",
    "            axes[row, i].text(0.5, 0.5, f'Error:\\n{str(e)[:30]}...', \n",
    "                            transform=axes[row, i].transAxes, ha='center', va='center')\n",
    "            axes[row, i].set_title(f'{method_name}\\n(Failed)')\n",
    "\n",
    "plt.tight_layout()\n",
    "plt.show()\n",
    "\n",
    "# Summary comparison table\n",
    "print(\"\\n\" + \"=\"*80)\n",
    "print(\"📋 SUMMARY COMPARISON TABLE\")\n",
    "print(\"=\"*80)\n",
    "\n",
    "summary_df = pd.DataFrame(balance_summary).T\n",
    "summary_df = summary_df.dropna(subset=['avg_smd'])  # Remove failed methods\n",
    "\n",
    "if len(summary_df) > 0:\n",
    "    summary_df = summary_df.sort_values('avg_smd')\n",
    "    print(f\"{'Method':<18} {'Avg SMD':<8} {'Max SMD':<8} {'T/C Split':<12} {'Clusters':<8} {'Quality':<12}\")\n",
    "    print(\"-\" * 75)\n",
    "    \n",
    "    for method, row in summary_df.iterrows():\n",
    "        quality = (\"Excellent\" if row['avg_smd'] < 0.05 else \n",
    "                  \"Good\" if row['avg_smd'] < 0.1 else \n",
    "                  \"Moderate\" if row['avg_smd'] < 0.2 else \"Poor\")\n",
    "        split = f\"{int(row['treatment_count'])}/{int(row['control_count'])}\"\n",
    "        \n",
    "        print(f\"{method:<18} {row['avg_smd']:<8.3f} {row['max_smd']:<8.3f} {split:<12} {int(row['n_clusters']):<8} {quality:<12}\")\n",
    "\n",
    "# Final recommendations\n",
    "print(f\"\\n🎯 RECOMMENDATIONS:\")\n",
    "print(\"=\"*50)\n",
    "print(\"• Random: Use as baseline for comparison\")\n",
    "print(\"• K-Means: Good general-purpose method for feature-based balance\")\n",
    "print(\"• Prognostic Score: Best when historical outcomes predict future performance\")\n",
    "print(\"• Embedding-Based: Ideal when spatial structure matters\")\n",
    "print(\"• Hybrid Embedding: Most sophisticated, use when prediction accuracy is key\")\n",
    "print(\"\\n💡 SMD Interpretation:\")\n",
    "print(\"• < 0.05: Excellent balance\")\n",
    "print(\"• 0.05-0.1: Good balance\") \n",
    "print(\"• 0.1-0.2: Moderate balance (acceptable)\")\n",
    "print(\"• > 0.2: Poor balance (concerning)\")"
   ]
  },
  {
   "cell_type": "markdown",
   "metadata": {},
   "source": [
    "## Advanced Assignment Methods\n",
    "\n",
    "Now let's test the more sophisticated assignment methods that use feature engineering and clustering."
   ]
  },
  {
   "cell_type": "code",
   "execution_count": null,
   "metadata": {},
   "outputs": [],
   "source": [
    "# Detailed Balance Analysis: Understanding Stratified Assignment\n",
    "print(\"🔬 DETAILED BALANCE ANALYSIS\")\n",
    "print(\"=\"*60)\n",
    "\n",
    "# Generate focused test data\n",
    "np.random.seed(123)\n",
    "test_features = pd.DataFrame({\n",
    "    'geo': [f'geo_{i:03d}' for i in range(24)],\n",
    "    'base_sales': np.random.normal(10000, 3000, 24),\n",
    "    'base_spend': np.random.normal(5000, 1500, 24), \n",
    "    'covariate': np.random.normal(0, 2, 24)\n",
    "})\n",
    "\n",
    "print(f\"Test data: {len(test_features)} geos\")\n",
    "print(f\"Feature ranges:\")\n",
    "print(f\"  • base_sales: {test_features['base_sales'].min():.0f} - {test_features['base_sales'].max():.0f}\")\n",
    "print(f\"  • base_spend: {test_features['base_spend'].min():.0f} - {test_features['base_spend'].max():.0f}\")\n",
    "print(f\"  • covariate: {test_features['covariate'].min():.2f} - {test_features['covariate'].max():.2f}\")\n",
    "\n",
    "# Test K-Means method to show stratified assignment concept\n",
    "print(f\"\\n🎯 K-MEANS STRATIFIED ASSIGNMENT DEMO:\")\n",
    "print(\"-\" * 50)\n",
    "\n",
    "kmeans_method = KMeansEmbeddingAssignment(n_clusters=3)\n",
    "kmeans_assignment = kmeans_method.assign(test_features, treatment_ratio=0.5, seed=123)\n",
    "\n",
    "# Show cluster formation and assignment within clusters\n",
    "merged_detailed = test_features.merge(kmeans_assignment, on='geo')\n",
    "\n",
    "print(\"\\nCluster formation and assignment:\")\n",
    "for cluster_id in sorted(merged_detailed['cluster'].unique()):\n",
    "    cluster_data = merged_detailed[merged_detailed['cluster'] == cluster_id]\n",
    "    treatment_in_cluster = (cluster_data['assignment'] == 'treatment').sum()\n",
    "    control_in_cluster = (cluster_data['assignment'] == 'control').sum()\n",
    "    \n",
    "    avg_sales = cluster_data['base_sales'].mean()\n",
    "    avg_spend = cluster_data['base_spend'].mean()\n",
    "    avg_cov = cluster_data['covariate'].mean()\n",
    "    \n",
    "    print(f\"\\n  Cluster {cluster_id}: {len(cluster_data)} geos total\")\n",
    "    print(f\"    Assignment: {treatment_in_cluster} treatment, {control_in_cluster} control\")\n",
    "    print(f\"    Avg features: sales={avg_sales:.0f}, spend={avg_spend:.0f}, cov={avg_cov:.2f}\")\n",
    "\n",
    "# Comprehensive balance evaluation\n",
    "print(f\"\\n📊 BALANCE EVALUATION:\")\n",
    "print(\"-\" * 30)\n",
    "balance_results = evaluate_cluster_balance(\n",
    "    test_features, \n",
    "    kmeans_assignment, \n",
    "    ['base_sales', 'base_spend', 'covariate']\n",
    ")\n",
    "\n",
    "print_balance_summary(balance_results, threshold=0.1)\n",
    "\n",
    "# Visualization of clusters and assignments\n",
    "fig, axes = plt.subplots(2, 2, figsize=(15, 12))\n",
    "\n",
    "# 1. Cluster visualization in feature space\n",
    "scatter = axes[0, 0].scatter(merged_detailed['base_sales'], merged_detailed['base_spend'], \n",
    "                           c=merged_detailed['cluster'], cmap='Set1', s=80, alpha=0.7)\n",
    "axes[0, 0].set_xlabel('Base Sales')\n",
    "axes[0, 0].set_ylabel('Base Spend')\n",
    "axes[0, 0].set_title('K-Means Clusters in Feature Space')\n",
    "plt.colorbar(scatter, ax=axes[0, 0], label='Cluster')\n",
    "\n",
    "# 2. Assignment within clusters\n",
    "colors = ['red' if x == 'treatment' else 'blue' for x in merged_detailed['assignment']]\n",
    "axes[0, 1].scatter(merged_detailed['base_sales'], merged_detailed['base_spend'], \n",
    "                  c=colors, s=80, alpha=0.7)\n",
    "axes[0, 1].set_xlabel('Base Sales')\n",
    "axes[0, 1].set_ylabel('Base Spend')\n",
    "axes[0, 1].set_title('Treatment/Control Assignment')\n",
    "axes[0, 1].legend(['Control', 'Treatment'])\n",
    "\n",
    "# 3. Balance comparison by cluster\n",
    "cluster_balance = balance_results[balance_results['cluster'] != 'Overall']\n",
    "if len(cluster_balance) > 0:\n",
    "    sns.barplot(data=cluster_balance, x='cluster', y='standardized_diff', \n",
    "               hue='feature', ax=axes[1, 0])\n",
    "    axes[1, 0].set_title('Within-Cluster Balance (SMD)')\n",
    "    axes[1, 0].axhline(y=0.1, color='red', linestyle='--', alpha=0.7, label='Balance Threshold')\n",
    "    axes[1, 0].legend(bbox_to_anchor=(1.05, 1), loc='upper left')\n",
    "\n",
    "# 4. Overall vs within-cluster balance\n",
    "overall_balance = balance_results[balance_results['cluster'] == 'Overall']\n",
    "avg_within_cluster = cluster_balance.groupby('feature')['standardized_diff'].mean().reset_index()\n",
    "avg_within_cluster['balance_type'] = 'Within-Cluster Avg'\n",
    "overall_balance_plot = overall_balance[['feature', 'standardized_diff']].copy()\n",
    "overall_balance_plot['balance_type'] = 'Overall'\n",
    "\n",
    "balance_comparison = pd.concat([\n",
    "    overall_balance_plot[['feature', 'standardized_diff', 'balance_type']], \n",
    "    avg_within_cluster[['feature', 'standardized_diff', 'balance_type']]\n",
    "])\n",
    "\n",
    "sns.barplot(data=balance_comparison, x='feature', y='standardized_diff', \n",
    "           hue='balance_type', ax=axes[1, 1])\n",
    "axes[1, 1].set_title('Overall vs Within-Cluster Balance')\n",
    "axes[1, 1].axhline(y=0.1, color='red', linestyle='--', alpha=0.7)\n",
    "axes[1, 1].tick_params(axis='x', rotation=45)\n",
    "\n",
    "plt.tight_layout()\n",
    "plt.show()\n",
    "\n",
    "print(f\"\\n💡 KEY CONCEPTS:\")\n",
    "print(\"• Stratified assignment separates clustering from treatment assignment\")\n",
    "print(\"• Each cluster contributes proportionally to treatment and control groups\")\n",
    "print(\"• This prevents imbalance from assigning entire clusters to one group\")\n",
    "print(\"• Balance is evaluated both overall and within each cluster\")"
   ]
  },
  {
   "cell_type": "markdown",
   "metadata": {},
   "source": [
    "## Assignment Method Deep Dive\n",
    "\n",
    "Individual analysis of each assignment method to understand their clustering/stratification strategies and balance characteristics."
   ]
  },
  {
   "cell_type": "code",
   "execution_count": null,
   "metadata": {},
   "outputs": [],
   "source": [
    "# Embedding-Based Assignment Demonstration\n",
    "print(\"🎯 EMBEDDING-BASED ASSIGNMENT DEMO\")\n",
    "print(\"=\"*60)\n",
    "print(\"Combines neural embeddings (learned features) + spectral spatial embeddings\")\n",
    "\n",
    "# Import the EmbeddingBasedAssignment method\n",
    "from assignment.methods import EmbeddingBasedAssignment\n",
    "\n",
    "# Generate test data with spatial coordinates\n",
    "np.random.seed(2024)\n",
    "embedding_features = pd.DataFrame({\n",
    "    'geo': [f'geo_{i:03d}' for i in range(30)],\n",
    "    'base_sales': np.random.normal(15000, 5000, 30),\n",
    "    'base_spend': np.random.normal(7500, 2500, 30),\n",
    "    'covariate': np.random.normal(0, 2, 30),\n",
    "    # Spatial coordinates (e.g., latitude/longitude scaled)\n",
    "    'xy1': np.random.uniform(0, 100, 30),\n",
    "    'xy2': np.random.uniform(0, 100, 30)\n",
    "})\n",
    "\n",
    "print(f\"\\nDataset: {len(embedding_features)} geos with features + spatial coordinates\")\n",
    "print(f\"Features: {[col for col in embedding_features.columns if col not in ['geo', 'xy1', 'xy2']]}\")\n",
    "print(f\"Spatial coords: ['xy1', 'xy2']\")\n",
    "\n",
    "# Test different configurations of the embedding method\n",
    "embedding_configs = {\n",
    "    'Default': EmbeddingBasedAssignment(neural_epochs=20),\n",
    "    'High Neural Dim': EmbeddingBasedAssignment(\n",
    "        neural_embedding_dim=12, \n",
    "        spatial_embedding_dim=3,\n",
    "        neural_epochs=20\n",
    "    ),\n",
    "    'More Clusters': EmbeddingBasedAssignment(\n",
    "        n_clusters=6,\n",
    "        neural_epochs=20\n",
    "    ),\n",
    "    'Custom Features': EmbeddingBasedAssignment(\n",
    "        feature_cols=['base_sales', 'covariate'],  # Skip base_spend\n",
    "        neural_epochs=20\n",
    "    )\n",
    "}\n",
    "\n",
    "# Create comprehensive visualization\n",
    "fig, axes = plt.subplots(2, len(embedding_configs), figsize=(20, 10))\n",
    "\n",
    "print(f\"\\n🔍 Testing {len(embedding_configs)} embedding-based configurations:\")\n",
    "print(\"-\" * 70)\n",
    "\n",
    "for i, (config_name, method) in enumerate(embedding_configs.items()):\n",
    "    print(f\"\\n{config_name.upper()}:\")\n",
    "    print(f\"  Neural dim: {method.neural_embedding_dim}, Spatial dim: {method.spatial_embedding_dim}\")\n",
    "    print(f\"  Clusters: {method.n_clusters}, Features: {method.feature_cols or 'default'}\")\n",
    "    \n",
    "    # Create assignment\n",
    "    assignment_df = method.assign(embedding_features, seed=2024)\n",
    "    merged_embedding = embedding_features.merge(assignment_df, on='geo')\n",
    "    \n",
    "    # Print summary\n",
    "    treatment_count = (assignment_df['assignment'] == 'treatment').sum()\n",
    "    control_count = (assignment_df['assignment'] == 'control').sum()\n",
    "    n_clusters_actual = len(assignment_df['cluster'].unique())\n",
    "    \n",
    "    print(f\"  Result: {treatment_count}T/{control_count}C across {n_clusters_actual} clusters\")\n",
    "    \n",
    "    # Evaluate balance\n",
    "    balance_results = evaluate_cluster_balance(\n",
    "        embedding_features, assignment_df, ['base_sales', 'base_spend', 'covariate']\n",
    "    )\n",
    "    \n",
    "    # Calculate average balance quality\n",
    "    overall_balance = balance_results[balance_results['cluster'] == 'Overall']\n",
    "    avg_smd = overall_balance['standardized_diff'].mean()\n",
    "    print(f\"  Avg SMD: {avg_smd:.3f} ({'Good' if avg_smd < 0.1 else 'Moderate' if avg_smd < 0.2 else 'Poor'} balance)\")\n",
    "    \n",
    "    # Top plot: Spatial distribution with clusters\n",
    "    scatter = axes[0, i].scatter(\n",
    "        merged_embedding['xy1'], merged_embedding['xy2'],\n",
    "        c=merged_embedding['cluster'], cmap='tab10', s=80, alpha=0.8\n",
    "    )\n",
    "    axes[0, i].set_xlabel('Spatial X1')\n",
    "    axes[0, i].set_ylabel('Spatial X2')\n",
    "    axes[0, i].set_title(f'{config_name}\\nSpatial Clusters')\n",
    "    \n",
    "    # Bottom plot: Feature space with treatment assignment\n",
    "    treatment_mask = merged_embedding['assignment'] == 'treatment'\n",
    "    axes[1, i].scatter(\n",
    "        merged_embedding.loc[treatment_mask, 'base_sales'],\n",
    "        merged_embedding.loc[treatment_mask, 'covariate'],\n",
    "        c='red', label='Treatment', s=80, alpha=0.8\n",
    "    )\n",
    "    axes[1, i].scatter(\n",
    "        merged_embedding.loc[~treatment_mask, 'base_sales'],\n",
    "        merged_embedding.loc[~treatment_mask, 'covariate'],\n",
    "        c='blue', label='Control', s=80, alpha=0.8\n",
    "    )\n",
    "    axes[1, i].set_xlabel('Base Sales')\n",
    "    axes[1, i].set_ylabel('Covariate')\n",
    "    axes[1, i].set_title(f'{config_name}\\nTreatment Assignment')\n",
    "    if i == 0:\n",
    "        axes[1, i].legend()\n",
    "\n",
    "plt.tight_layout()\n",
    "plt.show()\n",
    "\n",
    "print(f\"\\n🎯 EMBEDDING-BASED KEY FEATURES:\")\n",
    "print(\"=\"*50)\n",
    "print(\"• Neural embeddings: Learn representations from static geo features\")\n",
    "print(\"• Spatial embeddings: Capture geographic proximity via spectral methods\")\n",
    "print(\"• Combined embeddings: Merge learned + spatial representations\")\n",
    "print(\"• Stratified assignment: Balanced treatment/control within each cluster\")\n",
    "print(\"• General purpose: Works with limited data, fast training\")\n",
    "\n",
    "# Quick performance comparison with simpler methods\n",
    "print(f\"\\n⚡ QUICK PERFORMANCE COMPARISON:\")\n",
    "print(\"-\" * 40)\n",
    "\n",
    "comparison_methods = {\n",
    "    'Random': RandomAssignment(),\n",
    "    'K-Means': KMeansEmbeddingAssignment(n_clusters=4),\n",
    "    'Embedding-Based': EmbeddingBasedAssignment(n_clusters=4, neural_epochs=15)\n",
    "}\n",
    "\n",
    "balance_scores = {}\n",
    "for method_name, method in comparison_methods.items():\n",
    "    if method_name == 'Embedding-Based':\n",
    "        assignment = method.assign(embedding_features, seed=2024)\n",
    "    elif method_name == 'Random':\n",
    "        assignment = method.assign(embedding_features[['geo', 'base_sales', 'base_spend', 'covariate']], seed=2024)\n",
    "    else:  # K-Means\n",
    "        assignment = method.assign(embedding_features[['geo', 'base_sales', 'base_spend', 'covariate']], seed=2024)\n",
    "    \n",
    "    # Handle methods that don't create cluster column (like RandomAssignment)\n",
    "    if 'cluster' not in assignment.columns:\n",
    "        # Add dummy cluster for random assignment\n",
    "        assignment = assignment.copy()\n",
    "        assignment['cluster'] = 0  # All in one cluster for random assignment\n",
    "    \n",
    "    balance = evaluate_cluster_balance(\n",
    "        embedding_features[['geo', 'base_sales', 'base_spend', 'covariate']], \n",
    "        assignment, \n",
    "        ['base_sales', 'base_spend', 'covariate']\n",
    "    )\n",
    "    overall_smd = balance[balance['cluster'] == 'Overall']['standardized_diff'].mean()\n",
    "    balance_scores[method_name] = overall_smd\n",
    "    \n",
    "    treatment_count = (assignment['assignment'] == 'treatment').sum()\n",
    "    print(f\"{method_name:15}: {treatment_count}T/{30-treatment_count}C, Avg SMD = {overall_smd:.3f}\")\n",
    "\n",
    "# Visualize balance comparison\n",
    "plt.figure(figsize=(10, 6))\n",
    "methods = list(balance_scores.keys())\n",
    "scores = list(balance_scores.values())\n",
    "colors = ['skyblue', 'lightcoral', 'lightgreen']\n",
    "\n",
    "bars = plt.bar(methods, scores, color=colors, alpha=0.8, edgecolor='black')\n",
    "plt.axhline(y=0.1, color='red', linestyle='--', alpha=0.7, label='Good Balance Threshold')\n",
    "plt.ylabel('Average Standardized Mean Difference (SMD)')\n",
    "plt.title('Balance Quality Comparison: Embedding-Based vs Other Methods')\n",
    "plt.legend()\n",
    "\n",
    "# Add value labels on bars\n",
    "for bar, score in zip(bars, scores):\n",
    "    plt.text(bar.get_x() + bar.get_width()/2, bar.get_height() + 0.005,\n",
    "             f'{score:.3f}', ha='center', va='bottom', fontweight='bold')\n",
    "\n",
    "plt.tight_layout()\n",
    "plt.show()\n",
    "\n",
    "print(f\"\\n💡 INTERPRETATION:\")\n",
    "print(\"• Lower SMD = better balance between treatment and control groups\")\n",
    "print(\"• Embedding-based method combines feature learning + spatial awareness\")\n",
    "print(\"• Good for cases with static features and spatial structure\")\n",
    "print(\"• Neural component learns complex feature relationships\")"
   ]
  },
  {
   "cell_type": "markdown",
   "metadata": {},
   "source": [
    "## Hybrid Embedding Assignment (Semi-Supervised)\n",
    "\n",
    "Test the advanced HybridEmbeddingAssignment method that uses a hybrid loss function combining reconstruction (unsupervised) and prediction (supervised) objectives. This method is prediction-aware and requires panel data."
   ]
  },
  {
   "cell_type": "code",
   "execution_count": null,
   "metadata": {},
   "outputs": [],
   "source": [
    "# Hybrid Embedding Assignment (Semi-Supervised) Demonstration\n",
    "print(\"🧠 HYBRID EMBEDDING ASSIGNMENT DEMO\")\n",
    "print(\"=\"*60)\n",
    "print(\"Semi-supervised approach: Reconstruction (unsupervised) + Prediction (supervised)\")\n",
    "\n",
    "# Import the new HybridEmbeddingAssignment method\n",
    "from assignment.methods import HybridEmbeddingAssignment\n",
    "\n",
    "# Generate test data with time series (required for hybrid approach)\n",
    "np.random.seed(2025)\n",
    "n_geos = 20\n",
    "n_days = 50\n",
    "\n",
    "# Create geo features with spatial coordinates\n",
    "hybrid_geo_features = pd.DataFrame({\n",
    "    'geo': [f'geo_{i:03d}' for i in range(n_geos)],\n",
    "    'xy1': np.random.uniform(0, 100, n_geos),\n",
    "    'xy2': np.random.uniform(0, 100, n_geos)\n",
    "})\n",
    "\n",
    "# Create panel data with time series patterns\n",
    "dates = pd.date_range('2024-01-01', periods=n_days)\n",
    "panel_data = []\n",
    "\n",
    "for _, geo_row in hybrid_geo_features.iterrows():\n",
    "    # Each geo has a different base sales level and trend\n",
    "    base_sales = np.random.normal(12000, 3000)\n",
    "    trend = np.random.normal(0, 50)  # Some geos grow, others decline\n",
    "    \n",
    "    for day_idx, date in enumerate(dates):\n",
    "        sales = (base_sales + \n",
    "                trend * day_idx + \n",
    "                np.random.normal(0, 800) +  # Daily noise\n",
    "                500 * np.sin(day_idx * 2 * np.pi / 7))  # Weekly seasonality\n",
    "        \n",
    "        panel_data.append({\n",
    "            'geo': geo_row['geo'],\n",
    "            'date': date,\n",
    "            'sales': max(sales, 1000),  # Ensure positive sales\n",
    "            'spend_dollars': np.random.normal(5000, 1000)\n",
    "        })\n",
    "\n",
    "hybrid_panel_data = pd.DataFrame(panel_data)\n",
    "\n",
    "print(f\"\\nDataset: {n_geos} geos with {n_days} days of time series data\")\n",
    "print(f\"Panel data shape: {hybrid_panel_data.shape}\")\n",
    "print(f\"Spatial coords: ['xy1', 'xy2']\")\n",
    "print(f\"Time series: Sales data with trends and seasonality\")\n",
    "\n",
    "# Test different hybrid configurations\n",
    "print(f\"\\n🔬 HYBRID LOSS CONFIGURATIONS:\")\n",
    "print(\"-\" * 50)\n",
    "\n",
    "hybrid_configs = {\n",
    "    'Balanced': HybridEmbeddingAssignment(\n",
    "        reconstruction_weight=0.5,\n",
    "        prediction_weight=0.25,\n",
    "        regularization_weight=0.25,\n",
    "        neural_epochs=20,\n",
    "        n_clusters=3\n",
    "    ),\n",
    "    'Prediction-Focused': HybridEmbeddingAssignment(\n",
    "        reconstruction_weight=0.3,\n",
    "        prediction_weight=0.5,    # Higher emphasis on prediction\n",
    "        regularization_weight=0.2,\n",
    "        neural_epochs=20,\n",
    "        n_clusters=3\n",
    "    ),\n",
    "    'Reconstruction-Focused': HybridEmbeddingAssignment(\n",
    "        reconstruction_weight=0.6,   # Higher emphasis on reconstruction\n",
    "        prediction_weight=0.2,\n",
    "        regularization_weight=0.2,\n",
    "        neural_epochs=20,\n",
    "        n_clusters=3\n",
    "    )\n",
    "}\n",
    "\n",
    "# Run experiments with different loss configurations\n",
    "results_comparison = {}\n",
    "fig, axes = plt.subplots(2, 3, figsize=(18, 10))\n",
    "\n",
    "for i, (config_name, method) in enumerate(hybrid_configs.items()):\n",
    "    print(f\"\\n{config_name.upper()}:\")\n",
    "    print(f\"  Loss weights - Recon: {method.reconstruction_weight:.1f}, \" +\n",
    "          f\"Pred: {method.prediction_weight:.1f}, Reg: {method.regularization_weight:.1f}\")\n",
    "    \n",
    "    # Create assignment\n",
    "    assignment_df = method.assign(\n",
    "        hybrid_geo_features, \n",
    "        panel_data=hybrid_panel_data, \n",
    "        seed=2025\n",
    "    )\n",
    "    \n",
    "    # Merge for analysis\n",
    "    merged_hybrid = hybrid_geo_features.merge(assignment_df, on='geo')\n",
    "    \n",
    "    # Print summary\n",
    "    treatment_count = (assignment_df['assignment'] == 'treatment').sum()\n",
    "    control_count = (assignment_df['assignment'] == 'control').sum()\n",
    "    n_clusters_actual = len(assignment_df['cluster'].unique())\n",
    "    \n",
    "    print(f\"  Result: {treatment_count}T/{control_count}C across {n_clusters_actual} clusters\")\n",
    "    \n",
    "    # Store results for comparison\n",
    "    results_comparison[config_name] = {\n",
    "        'assignment_df': assignment_df,\n",
    "        'merged_data': merged_hybrid,\n",
    "        'treatment_count': treatment_count,\n",
    "        'control_count': control_count\n",
    "    }\n",
    "    \n",
    "    # Visualize spatial clustering\n",
    "    scatter = axes[0, i].scatter(\n",
    "        merged_hybrid['xy1'], merged_hybrid['xy2'],\n",
    "        c=merged_hybrid['cluster'], cmap='Set1', s=100, alpha=0.8, edgecolor='black'\n",
    "    )\n",
    "    axes[0, i].set_xlabel('Spatial X1')\n",
    "    axes[0, i].set_ylabel('Spatial X2')\n",
    "    axes[0, i].set_title(f'{config_name}\\nSpatial Clusters')\n",
    "    \n",
    "    # Visualize treatment assignment\n",
    "    treatment_mask = merged_hybrid['assignment'] == 'treatment'\n",
    "    axes[1, i].scatter(\n",
    "        merged_hybrid.loc[treatment_mask, 'xy1'],\n",
    "        merged_hybrid.loc[treatment_mask, 'xy2'],\n",
    "        c='red', label='Treatment', s=100, alpha=0.8, edgecolor='black'\n",
    "    )\n",
    "    axes[1, i].scatter(\n",
    "        merged_hybrid.loc[~treatment_mask, 'xy1'],\n",
    "        merged_hybrid.loc[~treatment_mask, 'xy2'],\n",
    "        c='blue', label='Control', s=100, alpha=0.8, edgecolor='black'\n",
    "    )\n",
    "    axes[1, i].set_xlabel('Spatial X1')\n",
    "    axes[1, i].set_ylabel('Spatial X2')\n",
    "    axes[1, i].set_title(f'{config_name}\\nTreatment Assignment')\n",
    "    if i == 0:\n",
    "        axes[1, i].legend()\n",
    "\n",
    "plt.tight_layout()\n",
    "plt.show()\n",
    "\n",
    "# Compare the different approaches\n",
    "print(f\"\\n📊 PERFORMANCE ANALYSIS:\")\n",
    "print(\"=\"*50)\n",
    "\n",
    "print(\"Analyzing how different loss weightings affect cluster formation...\")\n",
    "\n",
    "# Analyze sales patterns by cluster for each method\n",
    "for config_name, results in results_comparison.items():\n",
    "    print(f\"\\n{config_name.upper()} ANALYSIS:\")\n",
    "    \n",
    "    # Get sales data for this assignment\n",
    "    assignment_with_sales = results['assignment_df'].merge(\n",
    "        hybrid_panel_data.groupby('geo')['sales'].mean().reset_index(), \n",
    "        on='geo'\n",
    "    )\n",
    "    \n",
    "    # Analyze clusters\n",
    "    cluster_stats = assignment_with_sales.groupby('cluster').agg({\n",
    "        'sales': ['mean', 'std', 'count'],\n",
    "        'assignment': lambda x: f\"{(x=='treatment').sum()}T/{(x=='control').sum()}C\"\n",
    "    }).round(0)\n",
    "    \n",
    "    cluster_stats.columns = ['Avg_Sales', 'Sales_Std', 'Count', 'T/C_Split']\n",
    "    print(cluster_stats.to_string())\n",
    "\n",
    "print(f\"\\n🎯 HYBRID EMBEDDING KEY ADVANTAGES:\")\n",
    "print(\"=\"*50)\n",
    "print(\"• Semi-supervised learning: Combines unsupervised (reconstruction) + supervised (prediction)\")\n",
    "print(\"• Prediction-aware: Neural embeddings learn to predict future sales outcomes\")\n",
    "print(\"• Time series intelligence: Uses historical patterns, not just static features\")\n",
    "print(\"• Tunable objectives: Adjust loss weights based on prediction vs balance priorities\")\n",
    "print(\"• Spatial regularization: Geographic structure preserved through spectral embeddings\")\n",
    "\n",
    "# Demonstrate the prediction capability\n",
    "print(f\"\\n🔮 PREDICTION AWARENESS DEMO:\")\n",
    "print(\"-\" * 40)\n",
    "\n",
    "# Use the balanced configuration for this demo\n",
    "method = hybrid_configs['Balanced']\n",
    "\n",
    "# Show how the method splits time series data\n",
    "print(\"Time series data splitting:\")\n",
    "pre_period_data, prediction_targets, common_geos = method._prepare_time_series_data(hybrid_panel_data)\n",
    "\n",
    "print(f\"• Pre-period data shape: {pre_period_data.shape} (geos × time_steps)\")\n",
    "print(f\"• Prediction targets shape: {prediction_targets.shape} (future sales per geo)\")\n",
    "print(f\"• Pre-period uses: {pre_period_data.shape[1]} days ({method.pre_period_fraction:.1%} of timeline)\")\n",
    "print(f\"• Prediction period: {int(n_days * method.prediction_fraction)} days ({method.prediction_fraction:.1%} of timeline)\")\n",
    "\n",
    "# Show sales distribution\n",
    "plt.figure(figsize=(12, 4))\n",
    "\n",
    "plt.subplot(1, 2, 1)\n",
    "plt.hist(pre_period_data.mean(axis=1), bins=15, alpha=0.7, edgecolor='black')\n",
    "plt.xlabel('Average Pre-Period Sales')\n",
    "plt.ylabel('Number of Geos')\n",
    "plt.title('Pre-Period Sales Distribution\\n(Used for Learning Embeddings)')\n",
    "\n",
    "plt.subplot(1, 2, 2)\n",
    "plt.hist(prediction_targets, bins=15, alpha=0.7, color='orange', edgecolor='black')\n",
    "plt.xlabel('Future Sales Target')\n",
    "plt.ylabel('Number of Geos')\n",
    "plt.title('Prediction Targets\\n(Used for Supervised Learning)')\n",
    "\n",
    "plt.tight_layout()\n",
    "plt.show()\n",
    "\n",
    "print(f\"\\n💡 WHEN TO USE HYBRID EMBEDDING:\")\n",
    "print(\"• Rich panel data available (time series for each geo)\")\n",
    "print(\"• Want assignments that consider likely future outcomes\")\n",
    "print(\"• Care about both balance AND prediction accuracy\")\n",
    "print(\"• Have computational resources for neural network training\")\n",
    "print(\"• Geographic spillovers are important (spatial component)\")\n",
    "\n",
    "print(f\"\\n🔄 COMPARISON WITH OTHER METHODS:\")\n",
    "print(\"• EmbeddingBasedAssignment: Static features, faster, less data required\")\n",
    "print(\"• HybridEmbeddingAssignment: Time series, prediction-aware, more sophisticated\")\n",
    "print(\"• Both use spatial embeddings and stratified assignment for balance\")"
   ]
  },
  {
   "cell_type": "markdown",
   "metadata": {},
   "source": [
    "## Model Performance Comparison\n",
    "\n",
    "Run a small evaluation to see how methods perform."
   ]
  },
  {
   "cell_type": "code",
   "execution_count": 2,
   "metadata": {},
   "outputs": [
    {
     "name": "stdout",
     "output_type": "stream",
     "text": [
      "📊 FULL MODEL PERFORMANCE COMPARISON\n",
      "================================================================================\n",
      "Configuration: 100 simulations, 50 geos each\n",
      "Assignment methods: ['Random']\n",
      "Reporting methods: ['MeanMatching', 'GBR', 'TBR', 'SCM', 'STGCN']\n",
      "\n",
      "🔄 Running full evaluation (this may take a few minutes)...\n",
      "Running evaluation with 100 simulations...\n",
      "Assignment methods: ['Random']\n",
      "Reporting methods: ['MeanMatching', 'GBR', 'TBR', 'SCM', 'STGCN']\n"
     ]
    },
    {
     "name": "stderr",
     "output_type": "stream",
     "text": [
      "Running evaluations:   1%|          | 4/500 [00:00<00:51,  9.68it/s]"
     ]
    },
    {
     "name": "stdout",
     "output_type": "stream",
     "text": [
      "📊 Data Scale Analysis:\n",
      "   Sales: mean=9547.6, std=1918.1\n",
      "   Spend: mean=5022.0, std=888.8\n",
      "Training STGCN model for 10 epochs...\n"
     ]
    },
    {
     "name": "stderr",
     "output_type": "stream",
     "text": [
      "Training STGCN: 100%|██████████| 10/10 [00:04<00:00,  2.33it/s]\n"
     ]
    },
    {
     "name": "stdout",
     "output_type": "stream",
     "text": [
      "STGCN training completed. Final loss: 0.101378\n",
      "✅ Model training converged well!\n"
     ]
    },
    {
     "name": "stderr",
     "output_type": "stream",
     "text": [
      "Running evaluations:   2%|▏         | 9/500 [00:05<05:38,  1.45it/s]"
     ]
    },
    {
     "name": "stdout",
     "output_type": "stream",
     "text": [
      "📊 Data Scale Analysis:\n",
      "   Sales: mean=10371.8, std=2108.1\n",
      "   Spend: mean=4953.8, std=903.5\n",
      "Training STGCN model for 10 epochs...\n"
     ]
    },
    {
     "name": "stderr",
     "output_type": "stream",
     "text": [
      "Training STGCN: 100%|██████████| 10/10 [00:04<00:00,  2.32it/s]\n"
     ]
    },
    {
     "name": "stdout",
     "output_type": "stream",
     "text": [
      "STGCN training completed. Final loss: 0.089881\n",
      "✅ Model training converged well!\n"
     ]
    },
    {
     "name": "stderr",
     "output_type": "stream",
     "text": [
      "Running evaluations:   3%|▎         | 14/500 [00:11<05:55,  1.37it/s]"
     ]
    },
    {
     "name": "stdout",
     "output_type": "stream",
     "text": [
      "📊 Data Scale Analysis:\n",
      "   Sales: mean=9777.4, std=2156.9\n",
      "   Spend: mean=4929.9, std=976.7\n",
      "Training STGCN model for 10 epochs...\n"
     ]
    },
    {
     "name": "stderr",
     "output_type": "stream",
     "text": [
      "Training STGCN: 100%|██████████| 10/10 [00:04<00:00,  2.36it/s]\n"
     ]
    },
    {
     "name": "stdout",
     "output_type": "stream",
     "text": [
      "STGCN training completed. Final loss: 0.077103\n",
      "✅ Model training converged well!\n"
     ]
    },
    {
     "name": "stderr",
     "output_type": "stream",
     "text": [
      "Running evaluations:   4%|▍         | 19/500 [00:17<05:52,  1.36it/s]"
     ]
    },
    {
     "name": "stdout",
     "output_type": "stream",
     "text": [
      "📊 Data Scale Analysis:\n",
      "   Sales: mean=9434.9, std=1961.5\n",
      "   Spend: mean=5008.2, std=911.3\n",
      "Training STGCN model for 10 epochs...\n"
     ]
    },
    {
     "name": "stderr",
     "output_type": "stream",
     "text": [
      "Training STGCN: 100%|██████████| 10/10 [00:04<00:00,  2.30it/s]\n"
     ]
    },
    {
     "name": "stdout",
     "output_type": "stream",
     "text": [
      "STGCN training completed. Final loss: 0.091850\n",
      "✅ Model training converged well!\n"
     ]
    },
    {
     "name": "stderr",
     "output_type": "stream",
     "text": [
      "Running evaluations:   5%|▍         | 24/500 [00:22<05:56,  1.33it/s]"
     ]
    },
    {
     "name": "stdout",
     "output_type": "stream",
     "text": [
      "📊 Data Scale Analysis:\n",
      "   Sales: mean=9840.1, std=1812.0\n",
      "   Spend: mean=4961.3, std=995.5\n",
      "Training STGCN model for 10 epochs...\n"
     ]
    },
    {
     "name": "stderr",
     "output_type": "stream",
     "text": [
      "Training STGCN: 100%|██████████| 10/10 [00:04<00:00,  2.34it/s]\n"
     ]
    },
    {
     "name": "stdout",
     "output_type": "stream",
     "text": [
      "STGCN training completed. Final loss: 0.092968\n",
      "✅ Model training converged well!\n"
     ]
    },
    {
     "name": "stderr",
     "output_type": "stream",
     "text": [
      "Running evaluations:   6%|▌         | 29/500 [00:28<05:52,  1.34it/s]"
     ]
    },
    {
     "name": "stdout",
     "output_type": "stream",
     "text": [
      "📊 Data Scale Analysis:\n",
      "   Sales: mean=9637.0, std=1995.7\n",
      "   Spend: mean=5171.6, std=1114.5\n",
      "Training STGCN model for 10 epochs...\n"
     ]
    },
    {
     "name": "stderr",
     "output_type": "stream",
     "text": [
      "Training STGCN: 100%|██████████| 10/10 [00:04<00:00,  2.33it/s]\n"
     ]
    },
    {
     "name": "stdout",
     "output_type": "stream",
     "text": [
      "STGCN training completed. Final loss: 0.080075\n",
      "✅ Model training converged well!\n"
     ]
    },
    {
     "name": "stderr",
     "output_type": "stream",
     "text": [
      "Running evaluations:   7%|▋         | 34/500 [00:33<05:46,  1.34it/s]"
     ]
    },
    {
     "name": "stdout",
     "output_type": "stream",
     "text": [
      "📊 Data Scale Analysis:\n",
      "   Sales: mean=9957.8, std=2136.8\n",
      "   Spend: mean=5027.4, std=979.3\n",
      "Training STGCN model for 10 epochs...\n"
     ]
    },
    {
     "name": "stderr",
     "output_type": "stream",
     "text": [
      "Training STGCN: 100%|██████████| 10/10 [00:04<00:00,  2.35it/s]\n"
     ]
    },
    {
     "name": "stdout",
     "output_type": "stream",
     "text": [
      "STGCN training completed. Final loss: 0.080055\n",
      "✅ Model training converged well!\n"
     ]
    },
    {
     "name": "stderr",
     "output_type": "stream",
     "text": [
      "Running evaluations:   8%|▊         | 39/500 [00:39<05:41,  1.35it/s]"
     ]
    },
    {
     "name": "stdout",
     "output_type": "stream",
     "text": [
      "📊 Data Scale Analysis:\n",
      "   Sales: mean=10177.3, std=2041.0\n",
      "   Spend: mean=5058.6, std=1016.0\n",
      "Training STGCN model for 10 epochs...\n"
     ]
    },
    {
     "name": "stderr",
     "output_type": "stream",
     "text": [
      "Training STGCN: 100%|██████████| 10/10 [00:04<00:00,  2.40it/s]\n"
     ]
    },
    {
     "name": "stdout",
     "output_type": "stream",
     "text": [
      "STGCN training completed. Final loss: 0.074786\n",
      "✅ Model training converged well!\n"
     ]
    },
    {
     "name": "stderr",
     "output_type": "stream",
     "text": [
      "Running evaluations:   9%|▉         | 44/500 [00:44<05:30,  1.38it/s]"
     ]
    },
    {
     "name": "stdout",
     "output_type": "stream",
     "text": [
      "📊 Data Scale Analysis:\n",
      "   Sales: mean=10190.3, std=2064.6\n",
      "   Spend: mean=4989.6, std=1156.5\n",
      "Training STGCN model for 10 epochs...\n"
     ]
    },
    {
     "name": "stderr",
     "output_type": "stream",
     "text": [
      "Training STGCN: 100%|██████████| 10/10 [00:04<00:00,  2.35it/s]\n"
     ]
    },
    {
     "name": "stdout",
     "output_type": "stream",
     "text": [
      "STGCN training completed. Final loss: 0.074366\n",
      "✅ Model training converged well!\n"
     ]
    },
    {
     "name": "stderr",
     "output_type": "stream",
     "text": [
      "Running evaluations:  10%|▉         | 49/500 [00:50<05:36,  1.34it/s]"
     ]
    },
    {
     "name": "stdout",
     "output_type": "stream",
     "text": [
      "📊 Data Scale Analysis:\n",
      "   Sales: mean=10020.4, std=1883.5\n",
      "   Spend: mean=4989.3, std=1071.6\n",
      "Training STGCN model for 10 epochs...\n"
     ]
    },
    {
     "name": "stderr",
     "output_type": "stream",
     "text": [
      "Training STGCN: 100%|██████████| 10/10 [00:04<00:00,  2.33it/s]\n"
     ]
    },
    {
     "name": "stdout",
     "output_type": "stream",
     "text": [
      "STGCN training completed. Final loss: 0.093788\n",
      "✅ Model training converged well!\n"
     ]
    },
    {
     "name": "stderr",
     "output_type": "stream",
     "text": [
      "Running evaluations:  11%|█         | 54/500 [00:56<05:32,  1.34it/s]"
     ]
    },
    {
     "name": "stdout",
     "output_type": "stream",
     "text": [
      "📊 Data Scale Analysis:\n",
      "   Sales: mean=10344.9, std=1947.0\n",
      "   Spend: mean=5149.6, std=932.9\n",
      "Training STGCN model for 10 epochs...\n"
     ]
    },
    {
     "name": "stderr",
     "output_type": "stream",
     "text": [
      "Training STGCN: 100%|██████████| 10/10 [00:04<00:00,  2.34it/s]\n"
     ]
    },
    {
     "name": "stdout",
     "output_type": "stream",
     "text": [
      "STGCN training completed. Final loss: 0.096072\n",
      "✅ Model training converged well!\n"
     ]
    },
    {
     "name": "stderr",
     "output_type": "stream",
     "text": [
      "Running evaluations:  12%|█▏        | 59/500 [01:01<05:25,  1.35it/s]"
     ]
    },
    {
     "name": "stdout",
     "output_type": "stream",
     "text": [
      "📊 Data Scale Analysis:\n",
      "   Sales: mean=10027.3, std=2274.2\n",
      "   Spend: mean=5047.5, std=930.7\n",
      "Training STGCN model for 10 epochs...\n"
     ]
    },
    {
     "name": "stderr",
     "output_type": "stream",
     "text": [
      "Training STGCN: 100%|██████████| 10/10 [00:04<00:00,  2.38it/s]\n"
     ]
    },
    {
     "name": "stdout",
     "output_type": "stream",
     "text": [
      "STGCN training completed. Final loss: 0.081877\n",
      "✅ Model training converged well!\n"
     ]
    },
    {
     "name": "stderr",
     "output_type": "stream",
     "text": [
      "Running evaluations:  13%|█▎        | 64/500 [01:07<05:19,  1.36it/s]"
     ]
    },
    {
     "name": "stdout",
     "output_type": "stream",
     "text": [
      "📊 Data Scale Analysis:\n",
      "   Sales: mean=9759.2, std=1983.2\n",
      "   Spend: mean=4893.2, std=945.5\n",
      "Training STGCN model for 10 epochs...\n"
     ]
    },
    {
     "name": "stderr",
     "output_type": "stream",
     "text": [
      "Training STGCN: 100%|██████████| 10/10 [00:04<00:00,  2.41it/s]\n"
     ]
    },
    {
     "name": "stdout",
     "output_type": "stream",
     "text": [
      "STGCN training completed. Final loss: 0.089709\n",
      "✅ Model training converged well!\n"
     ]
    },
    {
     "name": "stderr",
     "output_type": "stream",
     "text": [
      "Running evaluations:  14%|█▍        | 69/500 [01:12<05:12,  1.38it/s]"
     ]
    },
    {
     "name": "stdout",
     "output_type": "stream",
     "text": [
      "📊 Data Scale Analysis:\n",
      "   Sales: mean=9971.4, std=1923.3\n",
      "   Spend: mean=5047.0, std=1148.6\n",
      "Training STGCN model for 10 epochs...\n"
     ]
    },
    {
     "name": "stderr",
     "output_type": "stream",
     "text": [
      "Training STGCN: 100%|██████████| 10/10 [00:04<00:00,  2.41it/s]\n"
     ]
    },
    {
     "name": "stdout",
     "output_type": "stream",
     "text": [
      "STGCN training completed. Final loss: 0.077689\n",
      "✅ Model training converged well!\n"
     ]
    },
    {
     "name": "stderr",
     "output_type": "stream",
     "text": [
      "Running evaluations:  15%|█▍        | 74/500 [01:17<05:10,  1.37it/s]"
     ]
    },
    {
     "name": "stdout",
     "output_type": "stream",
     "text": [
      "📊 Data Scale Analysis:\n",
      "   Sales: mean=9923.9, std=1929.6\n",
      "   Spend: mean=5113.4, std=1111.9\n",
      "Training STGCN model for 10 epochs...\n"
     ]
    },
    {
     "name": "stderr",
     "output_type": "stream",
     "text": [
      "Training STGCN: 100%|██████████| 10/10 [00:04<00:00,  2.43it/s]\n"
     ]
    },
    {
     "name": "stdout",
     "output_type": "stream",
     "text": [
      "STGCN training completed. Final loss: 0.084739\n",
      "✅ Model training converged well!\n"
     ]
    },
    {
     "name": "stderr",
     "output_type": "stream",
     "text": [
      "Running evaluations:  16%|█▌        | 79/500 [01:23<05:02,  1.39it/s]"
     ]
    },
    {
     "name": "stdout",
     "output_type": "stream",
     "text": [
      "📊 Data Scale Analysis:\n",
      "   Sales: mean=10027.5, std=2234.7\n",
      "   Spend: mean=5145.0, std=1063.0\n",
      "Training STGCN model for 10 epochs...\n"
     ]
    },
    {
     "name": "stderr",
     "output_type": "stream",
     "text": [
      "Training STGCN: 100%|██████████| 10/10 [00:04<00:00,  2.41it/s]\n"
     ]
    },
    {
     "name": "stdout",
     "output_type": "stream",
     "text": [
      "STGCN training completed. Final loss: 0.071924\n",
      "✅ Model training converged well!\n"
     ]
    },
    {
     "name": "stderr",
     "output_type": "stream",
     "text": [
      "Running evaluations:  17%|█▋        | 84/500 [01:28<04:59,  1.39it/s]"
     ]
    },
    {
     "name": "stdout",
     "output_type": "stream",
     "text": [
      "📊 Data Scale Analysis:\n",
      "   Sales: mean=9921.3, std=2217.6\n",
      "   Spend: mean=5178.4, std=860.8\n",
      "Training STGCN model for 10 epochs...\n"
     ]
    },
    {
     "name": "stderr",
     "output_type": "stream",
     "text": [
      "Training STGCN: 100%|██████████| 10/10 [00:04<00:00,  2.40it/s]\n"
     ]
    },
    {
     "name": "stdout",
     "output_type": "stream",
     "text": [
      "STGCN training completed. Final loss: 0.090925\n",
      "✅ Model training converged well!\n"
     ]
    },
    {
     "name": "stderr",
     "output_type": "stream",
     "text": [
      "Running evaluations:  18%|█▊        | 89/500 [01:34<04:57,  1.38it/s]"
     ]
    },
    {
     "name": "stdout",
     "output_type": "stream",
     "text": [
      "📊 Data Scale Analysis:\n",
      "   Sales: mean=9825.1, std=2263.3\n",
      "   Spend: mean=5084.6, std=1012.2\n",
      "Training STGCN model for 10 epochs...\n"
     ]
    },
    {
     "name": "stderr",
     "output_type": "stream",
     "text": [
      "Training STGCN: 100%|██████████| 10/10 [00:04<00:00,  2.39it/s]\n"
     ]
    },
    {
     "name": "stdout",
     "output_type": "stream",
     "text": [
      "STGCN training completed. Final loss: 0.076017\n",
      "✅ Model training converged well!\n"
     ]
    },
    {
     "name": "stderr",
     "output_type": "stream",
     "text": [
      "Running evaluations:  19%|█▉        | 94/500 [01:39<04:53,  1.38it/s]"
     ]
    },
    {
     "name": "stdout",
     "output_type": "stream",
     "text": [
      "📊 Data Scale Analysis:\n",
      "   Sales: mean=9964.1, std=2206.6\n",
      "   Spend: mean=5211.3, std=1059.0\n",
      "Training STGCN model for 10 epochs...\n"
     ]
    },
    {
     "name": "stderr",
     "output_type": "stream",
     "text": [
      "Training STGCN: 100%|██████████| 10/10 [00:04<00:00,  2.42it/s]\n"
     ]
    },
    {
     "name": "stdout",
     "output_type": "stream",
     "text": [
      "STGCN training completed. Final loss: 0.075459\n",
      "✅ Model training converged well!\n"
     ]
    },
    {
     "name": "stderr",
     "output_type": "stream",
     "text": [
      "Running evaluations:  20%|█▉        | 99/500 [01:45<04:52,  1.37it/s]"
     ]
    },
    {
     "name": "stdout",
     "output_type": "stream",
     "text": [
      "📊 Data Scale Analysis:\n",
      "   Sales: mean=9634.3, std=2038.0\n",
      "   Spend: mean=4997.6, std=1027.8\n",
      "Training STGCN model for 10 epochs...\n"
     ]
    },
    {
     "name": "stderr",
     "output_type": "stream",
     "text": [
      "Training STGCN: 100%|██████████| 10/10 [00:04<00:00,  2.39it/s]\n"
     ]
    },
    {
     "name": "stdout",
     "output_type": "stream",
     "text": [
      "STGCN training completed. Final loss: 0.083447\n",
      "✅ Model training converged well!\n"
     ]
    },
    {
     "name": "stderr",
     "output_type": "stream",
     "text": [
      "Running evaluations:  21%|██        | 104/500 [01:50<04:51,  1.36it/s]"
     ]
    },
    {
     "name": "stdout",
     "output_type": "stream",
     "text": [
      "📊 Data Scale Analysis:\n",
      "   Sales: mean=9576.6, std=1918.6\n",
      "   Spend: mean=5041.2, std=914.4\n",
      "Training STGCN model for 10 epochs...\n"
     ]
    },
    {
     "name": "stderr",
     "output_type": "stream",
     "text": [
      "Training STGCN: 100%|██████████| 10/10 [00:04<00:00,  2.40it/s]\n"
     ]
    },
    {
     "name": "stdout",
     "output_type": "stream",
     "text": [
      "STGCN training completed. Final loss: 0.096240\n",
      "✅ Model training converged well!\n"
     ]
    },
    {
     "name": "stderr",
     "output_type": "stream",
     "text": [
      "Running evaluations:  22%|██▏       | 109/500 [01:56<04:47,  1.36it/s]"
     ]
    },
    {
     "name": "stdout",
     "output_type": "stream",
     "text": [
      "📊 Data Scale Analysis:\n",
      "   Sales: mean=9980.1, std=2183.2\n",
      "   Spend: mean=5118.3, std=1096.6\n",
      "Training STGCN model for 10 epochs...\n"
     ]
    },
    {
     "name": "stderr",
     "output_type": "stream",
     "text": [
      "Training STGCN: 100%|██████████| 10/10 [00:04<00:00,  2.40it/s]\n"
     ]
    },
    {
     "name": "stdout",
     "output_type": "stream",
     "text": [
      "STGCN training completed. Final loss: 0.074861\n",
      "✅ Model training converged well!\n"
     ]
    },
    {
     "name": "stderr",
     "output_type": "stream",
     "text": [
      "Running evaluations:  23%|██▎       | 114/500 [02:01<04:44,  1.36it/s]"
     ]
    },
    {
     "name": "stdout",
     "output_type": "stream",
     "text": [
      "📊 Data Scale Analysis:\n",
      "   Sales: mean=9555.6, std=2213.6\n",
      "   Spend: mean=4909.6, std=1119.6\n",
      "Training STGCN model for 10 epochs...\n"
     ]
    },
    {
     "name": "stderr",
     "output_type": "stream",
     "text": [
      "Training STGCN: 100%|██████████| 10/10 [00:04<00:00,  2.41it/s]\n"
     ]
    },
    {
     "name": "stdout",
     "output_type": "stream",
     "text": [
      "STGCN training completed. Final loss: 0.072880\n",
      "✅ Model training converged well!\n"
     ]
    },
    {
     "name": "stderr",
     "output_type": "stream",
     "text": [
      "Running evaluations:  24%|██▍       | 119/500 [02:06<04:37,  1.37it/s]"
     ]
    },
    {
     "name": "stdout",
     "output_type": "stream",
     "text": [
      "📊 Data Scale Analysis:\n",
      "   Sales: mean=9852.5, std=1799.5\n",
      "   Spend: mean=4830.1, std=888.5\n",
      "Training STGCN model for 10 epochs...\n"
     ]
    },
    {
     "name": "stderr",
     "output_type": "stream",
     "text": [
      "Training STGCN: 100%|██████████| 10/10 [00:04<00:00,  2.41it/s]\n"
     ]
    },
    {
     "name": "stdout",
     "output_type": "stream",
     "text": [
      "STGCN training completed. Final loss: 0.107598\n",
      "✅ Model training converged well!\n"
     ]
    },
    {
     "name": "stderr",
     "output_type": "stream",
     "text": [
      "Running evaluations:  25%|██▍       | 124/500 [02:12<04:33,  1.37it/s]"
     ]
    },
    {
     "name": "stdout",
     "output_type": "stream",
     "text": [
      "📊 Data Scale Analysis:\n",
      "   Sales: mean=10186.6, std=2199.3\n",
      "   Spend: mean=5156.4, std=1048.8\n",
      "Training STGCN model for 10 epochs...\n"
     ]
    },
    {
     "name": "stderr",
     "output_type": "stream",
     "text": [
      "Training STGCN: 100%|██████████| 10/10 [00:04<00:00,  2.38it/s]\n"
     ]
    },
    {
     "name": "stdout",
     "output_type": "stream",
     "text": [
      "STGCN training completed. Final loss: 0.075507\n",
      "✅ Model training converged well!\n"
     ]
    },
    {
     "name": "stderr",
     "output_type": "stream",
     "text": [
      "Running evaluations:  26%|██▌       | 129/500 [02:17<04:29,  1.38it/s]"
     ]
    },
    {
     "name": "stdout",
     "output_type": "stream",
     "text": [
      "📊 Data Scale Analysis:\n",
      "   Sales: mean=9580.3, std=2088.4\n",
      "   Spend: mean=4880.0, std=848.1\n",
      "Training STGCN model for 10 epochs...\n"
     ]
    },
    {
     "name": "stderr",
     "output_type": "stream",
     "text": [
      "Training STGCN: 100%|██████████| 10/10 [00:04<00:00,  2.43it/s]\n"
     ]
    },
    {
     "name": "stdout",
     "output_type": "stream",
     "text": [
      "STGCN training completed. Final loss: 0.094659\n",
      "✅ Model training converged well!\n"
     ]
    },
    {
     "name": "stderr",
     "output_type": "stream",
     "text": [
      "Running evaluations:  27%|██▋       | 134/500 [02:23<04:22,  1.39it/s]"
     ]
    },
    {
     "name": "stdout",
     "output_type": "stream",
     "text": [
      "📊 Data Scale Analysis:\n",
      "   Sales: mean=10263.6, std=1763.3\n",
      "   Spend: mean=5210.8, std=1187.4\n",
      "Training STGCN model for 10 epochs...\n"
     ]
    },
    {
     "name": "stderr",
     "output_type": "stream",
     "text": [
      "Training STGCN: 100%|██████████| 10/10 [00:04<00:00,  2.43it/s]\n"
     ]
    },
    {
     "name": "stdout",
     "output_type": "stream",
     "text": [
      "STGCN training completed. Final loss: 0.091041\n",
      "✅ Model training converged well!\n"
     ]
    },
    {
     "name": "stderr",
     "output_type": "stream",
     "text": [
      "Running evaluations:  28%|██▊       | 139/500 [02:28<04:20,  1.39it/s]"
     ]
    },
    {
     "name": "stdout",
     "output_type": "stream",
     "text": [
      "📊 Data Scale Analysis:\n",
      "   Sales: mean=9456.3, std=2116.6\n",
      "   Spend: mean=5186.3, std=1167.3\n",
      "Training STGCN model for 10 epochs...\n"
     ]
    },
    {
     "name": "stderr",
     "output_type": "stream",
     "text": [
      "Training STGCN: 100%|██████████| 10/10 [00:04<00:00,  2.41it/s]\n"
     ]
    },
    {
     "name": "stdout",
     "output_type": "stream",
     "text": [
      "STGCN training completed. Final loss: 0.074098\n",
      "✅ Model training converged well!\n"
     ]
    },
    {
     "name": "stderr",
     "output_type": "stream",
     "text": [
      "Running evaluations:  29%|██▉       | 144/500 [02:34<04:17,  1.38it/s]"
     ]
    },
    {
     "name": "stdout",
     "output_type": "stream",
     "text": [
      "📊 Data Scale Analysis:\n",
      "   Sales: mean=9566.2, std=2186.5\n",
      "   Spend: mean=5018.0, std=976.7\n",
      "Training STGCN model for 10 epochs...\n"
     ]
    },
    {
     "name": "stderr",
     "output_type": "stream",
     "text": [
      "Training STGCN: 100%|██████████| 10/10 [00:04<00:00,  2.38it/s]\n"
     ]
    },
    {
     "name": "stdout",
     "output_type": "stream",
     "text": [
      "STGCN training completed. Final loss: 0.082352\n",
      "✅ Model training converged well!\n"
     ]
    },
    {
     "name": "stderr",
     "output_type": "stream",
     "text": [
      "Running evaluations:  30%|██▉       | 149/500 [02:39<04:16,  1.37it/s]"
     ]
    },
    {
     "name": "stdout",
     "output_type": "stream",
     "text": [
      "📊 Data Scale Analysis:\n",
      "   Sales: mean=9926.0, std=1833.6\n",
      "   Spend: mean=5187.3, std=768.3\n",
      "Training STGCN model for 10 epochs...\n"
     ]
    },
    {
     "name": "stderr",
     "output_type": "stream",
     "text": [
      "Training STGCN: 100%|██████████| 10/10 [00:04<00:00,  2.38it/s]\n"
     ]
    },
    {
     "name": "stdout",
     "output_type": "stream",
     "text": [
      "STGCN training completed. Final loss: 0.108129\n",
      "✅ Model training converged well!\n"
     ]
    },
    {
     "name": "stderr",
     "output_type": "stream",
     "text": [
      "Running evaluations:  31%|███       | 154/500 [02:45<04:12,  1.37it/s]"
     ]
    },
    {
     "name": "stdout",
     "output_type": "stream",
     "text": [
      "📊 Data Scale Analysis:\n",
      "   Sales: mean=9937.1, std=2218.1\n",
      "   Spend: mean=5123.5, std=1004.0\n",
      "Training STGCN model for 10 epochs...\n"
     ]
    },
    {
     "name": "stderr",
     "output_type": "stream",
     "text": [
      "Training STGCN: 100%|██████████| 10/10 [00:04<00:00,  2.41it/s]\n"
     ]
    },
    {
     "name": "stdout",
     "output_type": "stream",
     "text": [
      "STGCN training completed. Final loss: 0.084697\n",
      "✅ Model training converged well!\n"
     ]
    },
    {
     "name": "stderr",
     "output_type": "stream",
     "text": [
      "Running evaluations:  32%|███▏      | 159/500 [02:50<04:06,  1.38it/s]"
     ]
    },
    {
     "name": "stdout",
     "output_type": "stream",
     "text": [
      "📊 Data Scale Analysis:\n",
      "   Sales: mean=10108.0, std=2171.2\n",
      "   Spend: mean=5035.0, std=961.1\n",
      "Training STGCN model for 10 epochs...\n"
     ]
    },
    {
     "name": "stderr",
     "output_type": "stream",
     "text": [
      "Training STGCN: 100%|██████████| 10/10 [00:04<00:00,  2.40it/s]\n"
     ]
    },
    {
     "name": "stdout",
     "output_type": "stream",
     "text": [
      "STGCN training completed. Final loss: 0.074356\n",
      "✅ Model training converged well!\n"
     ]
    },
    {
     "name": "stderr",
     "output_type": "stream",
     "text": [
      "Running evaluations:  33%|███▎      | 164/500 [02:55<04:07,  1.35it/s]"
     ]
    },
    {
     "name": "stdout",
     "output_type": "stream",
     "text": [
      "📊 Data Scale Analysis:\n",
      "   Sales: mean=10244.6, std=1999.4\n",
      "   Spend: mean=5121.2, std=912.2\n",
      "Training STGCN model for 10 epochs...\n"
     ]
    },
    {
     "name": "stderr",
     "output_type": "stream",
     "text": [
      "Training STGCN: 100%|██████████| 10/10 [00:04<00:00,  2.43it/s]\n"
     ]
    },
    {
     "name": "stdout",
     "output_type": "stream",
     "text": [
      "STGCN training completed. Final loss: 0.097399\n",
      "✅ Model training converged well!\n"
     ]
    },
    {
     "name": "stderr",
     "output_type": "stream",
     "text": [
      "Running evaluations:  34%|███▍      | 169/500 [03:01<03:59,  1.38it/s]"
     ]
    },
    {
     "name": "stdout",
     "output_type": "stream",
     "text": [
      "📊 Data Scale Analysis:\n",
      "   Sales: mean=10239.1, std=2172.2\n",
      "   Spend: mean=5089.2, std=1091.3\n",
      "Training STGCN model for 10 epochs...\n"
     ]
    },
    {
     "name": "stderr",
     "output_type": "stream",
     "text": [
      "Training STGCN: 100%|██████████| 10/10 [00:04<00:00,  2.41it/s]\n"
     ]
    },
    {
     "name": "stdout",
     "output_type": "stream",
     "text": [
      "STGCN training completed. Final loss: 0.069696\n",
      "✅ Model training converged well!\n"
     ]
    },
    {
     "name": "stderr",
     "output_type": "stream",
     "text": [
      "Running evaluations:  35%|███▍      | 174/500 [03:06<03:57,  1.37it/s]"
     ]
    },
    {
     "name": "stdout",
     "output_type": "stream",
     "text": [
      "📊 Data Scale Analysis:\n",
      "   Sales: mean=10436.2, std=1730.6\n",
      "   Spend: mean=4899.9, std=799.9\n",
      "Training STGCN model for 10 epochs...\n"
     ]
    },
    {
     "name": "stderr",
     "output_type": "stream",
     "text": [
      "Training STGCN: 100%|██████████| 10/10 [00:04<00:00,  2.42it/s]\n"
     ]
    },
    {
     "name": "stdout",
     "output_type": "stream",
     "text": [
      "STGCN training completed. Final loss: 0.113482\n",
      "✅ Model training converged well!\n"
     ]
    },
    {
     "name": "stderr",
     "output_type": "stream",
     "text": [
      "Running evaluations:  36%|███▌      | 179/500 [03:12<03:52,  1.38it/s]"
     ]
    },
    {
     "name": "stdout",
     "output_type": "stream",
     "text": [
      "📊 Data Scale Analysis:\n",
      "   Sales: mean=9525.7, std=1827.0\n",
      "   Spend: mean=5196.6, std=936.4\n",
      "Training STGCN model for 10 epochs...\n"
     ]
    },
    {
     "name": "stderr",
     "output_type": "stream",
     "text": [
      "Training STGCN: 100%|██████████| 10/10 [00:04<00:00,  2.44it/s]\n"
     ]
    },
    {
     "name": "stdout",
     "output_type": "stream",
     "text": [
      "STGCN training completed. Final loss: 0.105187\n",
      "✅ Model training converged well!\n"
     ]
    },
    {
     "name": "stderr",
     "output_type": "stream",
     "text": [
      "Running evaluations:  37%|███▋      | 184/500 [03:17<03:48,  1.38it/s]"
     ]
    },
    {
     "name": "stdout",
     "output_type": "stream",
     "text": [
      "📊 Data Scale Analysis:\n",
      "   Sales: mean=10239.8, std=1769.2\n",
      "   Spend: mean=5120.3, std=1089.2\n",
      "Training STGCN model for 10 epochs...\n"
     ]
    },
    {
     "name": "stderr",
     "output_type": "stream",
     "text": [
      "Training STGCN: 100%|██████████| 10/10 [00:04<00:00,  2.44it/s]\n"
     ]
    },
    {
     "name": "stdout",
     "output_type": "stream",
     "text": [
      "STGCN training completed. Final loss: 0.098231\n",
      "✅ Model training converged well!\n"
     ]
    },
    {
     "name": "stderr",
     "output_type": "stream",
     "text": [
      "Running evaluations:  38%|███▊      | 189/500 [03:22<03:44,  1.38it/s]"
     ]
    },
    {
     "name": "stdout",
     "output_type": "stream",
     "text": [
      "📊 Data Scale Analysis:\n",
      "   Sales: mean=10109.2, std=2122.7\n",
      "   Spend: mean=5413.6, std=1071.9\n",
      "Training STGCN model for 10 epochs...\n"
     ]
    },
    {
     "name": "stderr",
     "output_type": "stream",
     "text": [
      "Training STGCN: 100%|██████████| 10/10 [00:04<00:00,  2.37it/s]\n"
     ]
    },
    {
     "name": "stdout",
     "output_type": "stream",
     "text": [
      "STGCN training completed. Final loss: 0.072474\n",
      "✅ Model training converged well!\n"
     ]
    },
    {
     "name": "stderr",
     "output_type": "stream",
     "text": [
      "Running evaluations:  39%|███▉      | 194/500 [03:28<03:42,  1.37it/s]"
     ]
    },
    {
     "name": "stdout",
     "output_type": "stream",
     "text": [
      "📊 Data Scale Analysis:\n",
      "   Sales: mean=10277.1, std=2074.9\n",
      "   Spend: mean=4977.9, std=920.9\n",
      "Training STGCN model for 10 epochs...\n"
     ]
    },
    {
     "name": "stderr",
     "output_type": "stream",
     "text": [
      "Training STGCN: 100%|██████████| 10/10 [00:04<00:00,  2.40it/s]\n"
     ]
    },
    {
     "name": "stdout",
     "output_type": "stream",
     "text": [
      "STGCN training completed. Final loss: 0.089124\n",
      "✅ Model training converged well!\n"
     ]
    },
    {
     "name": "stderr",
     "output_type": "stream",
     "text": [
      "Running evaluations:  40%|███▉      | 199/500 [03:33<03:39,  1.37it/s]"
     ]
    },
    {
     "name": "stdout",
     "output_type": "stream",
     "text": [
      "📊 Data Scale Analysis:\n",
      "   Sales: mean=9462.8, std=1888.6\n",
      "   Spend: mean=5030.8, std=1056.1\n",
      "Training STGCN model for 10 epochs...\n"
     ]
    },
    {
     "name": "stderr",
     "output_type": "stream",
     "text": [
      "Training STGCN: 100%|██████████| 10/10 [00:04<00:00,  2.40it/s]\n"
     ]
    },
    {
     "name": "stdout",
     "output_type": "stream",
     "text": [
      "STGCN training completed. Final loss: 0.085808\n",
      "✅ Model training converged well!\n"
     ]
    },
    {
     "name": "stderr",
     "output_type": "stream",
     "text": [
      "Running evaluations:  41%|████      | 204/500 [03:39<03:34,  1.38it/s]"
     ]
    },
    {
     "name": "stdout",
     "output_type": "stream",
     "text": [
      "📊 Data Scale Analysis:\n",
      "   Sales: mean=10142.7, std=1752.9\n",
      "   Spend: mean=4989.2, std=964.3\n",
      "Training STGCN model for 10 epochs...\n"
     ]
    },
    {
     "name": "stderr",
     "output_type": "stream",
     "text": [
      "Training STGCN: 100%|██████████| 10/10 [00:04<00:00,  2.40it/s]\n"
     ]
    },
    {
     "name": "stdout",
     "output_type": "stream",
     "text": [
      "STGCN training completed. Final loss: 0.104890\n",
      "✅ Model training converged well!\n"
     ]
    },
    {
     "name": "stderr",
     "output_type": "stream",
     "text": [
      "Running evaluations:  42%|████▏     | 209/500 [03:44<03:31,  1.38it/s]"
     ]
    },
    {
     "name": "stdout",
     "output_type": "stream",
     "text": [
      "📊 Data Scale Analysis:\n",
      "   Sales: mean=9896.4, std=1988.4\n",
      "   Spend: mean=5084.0, std=937.0\n",
      "Training STGCN model for 10 epochs...\n"
     ]
    },
    {
     "name": "stderr",
     "output_type": "stream",
     "text": [
      "Training STGCN: 100%|██████████| 10/10 [00:04<00:00,  2.38it/s]\n"
     ]
    },
    {
     "name": "stdout",
     "output_type": "stream",
     "text": [
      "STGCN training completed. Final loss: 0.098222\n",
      "✅ Model training converged well!\n"
     ]
    },
    {
     "name": "stderr",
     "output_type": "stream",
     "text": [
      "Running evaluations:  43%|████▎     | 214/500 [03:50<03:30,  1.36it/s]"
     ]
    },
    {
     "name": "stdout",
     "output_type": "stream",
     "text": [
      "📊 Data Scale Analysis:\n",
      "   Sales: mean=9227.0, std=2063.5\n",
      "   Spend: mean=4896.1, std=1202.4\n",
      "Training STGCN model for 10 epochs...\n"
     ]
    },
    {
     "name": "stderr",
     "output_type": "stream",
     "text": [
      "Training STGCN: 100%|██████████| 10/10 [00:04<00:00,  2.35it/s]\n"
     ]
    },
    {
     "name": "stdout",
     "output_type": "stream",
     "text": [
      "STGCN training completed. Final loss: 0.072384\n",
      "✅ Model training converged well!\n"
     ]
    },
    {
     "name": "stderr",
     "output_type": "stream",
     "text": [
      "Running evaluations:  44%|████▍     | 219/500 [03:55<03:27,  1.35it/s]"
     ]
    },
    {
     "name": "stdout",
     "output_type": "stream",
     "text": [
      "📊 Data Scale Analysis:\n",
      "   Sales: mean=9940.9, std=2139.6\n",
      "   Spend: mean=4876.8, std=1059.8\n",
      "Training STGCN model for 10 epochs...\n"
     ]
    },
    {
     "name": "stderr",
     "output_type": "stream",
     "text": [
      "Training STGCN: 100%|██████████| 10/10 [00:04<00:00,  2.35it/s]\n"
     ]
    },
    {
     "name": "stdout",
     "output_type": "stream",
     "text": [
      "STGCN training completed. Final loss: 0.081383\n",
      "✅ Model training converged well!\n"
     ]
    },
    {
     "name": "stderr",
     "output_type": "stream",
     "text": [
      "Running evaluations:  45%|████▍     | 224/500 [04:01<03:25,  1.34it/s]"
     ]
    },
    {
     "name": "stdout",
     "output_type": "stream",
     "text": [
      "📊 Data Scale Analysis:\n",
      "   Sales: mean=10081.8, std=2013.8\n",
      "   Spend: mean=5127.6, std=1010.0\n",
      "Training STGCN model for 10 epochs...\n"
     ]
    },
    {
     "name": "stderr",
     "output_type": "stream",
     "text": [
      "Training STGCN: 100%|██████████| 10/10 [00:04<00:00,  2.37it/s]\n"
     ]
    },
    {
     "name": "stdout",
     "output_type": "stream",
     "text": [
      "STGCN training completed. Final loss: 0.085141\n",
      "✅ Model training converged well!\n"
     ]
    },
    {
     "name": "stderr",
     "output_type": "stream",
     "text": [
      "Running evaluations:  46%|████▌     | 229/500 [04:06<03:19,  1.36it/s]"
     ]
    },
    {
     "name": "stdout",
     "output_type": "stream",
     "text": [
      "📊 Data Scale Analysis:\n",
      "   Sales: mean=9739.0, std=1820.1\n",
      "   Spend: mean=5171.2, std=1055.4\n",
      "Training STGCN model for 10 epochs...\n"
     ]
    },
    {
     "name": "stderr",
     "output_type": "stream",
     "text": [
      "Training STGCN: 100%|██████████| 10/10 [00:04<00:00,  2.39it/s]\n"
     ]
    },
    {
     "name": "stdout",
     "output_type": "stream",
     "text": [
      "STGCN training completed. Final loss: 0.088606\n",
      "✅ Model training converged well!\n"
     ]
    },
    {
     "name": "stderr",
     "output_type": "stream",
     "text": [
      "Running evaluations:  47%|████▋     | 234/500 [04:12<03:15,  1.36it/s]"
     ]
    },
    {
     "name": "stdout",
     "output_type": "stream",
     "text": [
      "📊 Data Scale Analysis:\n",
      "   Sales: mean=9899.8, std=2006.9\n",
      "   Spend: mean=5007.2, std=749.0\n",
      "Training STGCN model for 10 epochs...\n"
     ]
    },
    {
     "name": "stderr",
     "output_type": "stream",
     "text": [
      "Training STGCN: 100%|██████████| 10/10 [00:04<00:00,  2.41it/s]\n"
     ]
    },
    {
     "name": "stdout",
     "output_type": "stream",
     "text": [
      "STGCN training completed. Final loss: 0.106473\n",
      "✅ Model training converged well!\n"
     ]
    },
    {
     "name": "stderr",
     "output_type": "stream",
     "text": [
      "Running evaluations:  48%|████▊     | 239/500 [04:17<03:12,  1.35it/s]"
     ]
    },
    {
     "name": "stdout",
     "output_type": "stream",
     "text": [
      "📊 Data Scale Analysis:\n",
      "   Sales: mean=9587.4, std=1887.0\n",
      "   Spend: mean=5016.9, std=990.7\n",
      "Training STGCN model for 10 epochs...\n"
     ]
    },
    {
     "name": "stderr",
     "output_type": "stream",
     "text": [
      "Training STGCN: 100%|██████████| 10/10 [00:04<00:00,  2.38it/s]\n"
     ]
    },
    {
     "name": "stdout",
     "output_type": "stream",
     "text": [
      "STGCN training completed. Final loss: 0.092674\n",
      "✅ Model training converged well!\n"
     ]
    },
    {
     "name": "stderr",
     "output_type": "stream",
     "text": [
      "Running evaluations:  49%|████▉     | 244/500 [04:23<03:07,  1.36it/s]"
     ]
    },
    {
     "name": "stdout",
     "output_type": "stream",
     "text": [
      "📊 Data Scale Analysis:\n",
      "   Sales: mean=10531.4, std=2095.7\n",
      "   Spend: mean=4806.4, std=825.3\n",
      "Training STGCN model for 10 epochs...\n"
     ]
    },
    {
     "name": "stderr",
     "output_type": "stream",
     "text": [
      "Training STGCN: 100%|██████████| 10/10 [00:04<00:00,  2.37it/s]\n"
     ]
    },
    {
     "name": "stdout",
     "output_type": "stream",
     "text": [
      "STGCN training completed. Final loss: 0.101190\n",
      "✅ Model training converged well!\n"
     ]
    },
    {
     "name": "stderr",
     "output_type": "stream",
     "text": [
      "Running evaluations:  50%|████▉     | 249/500 [04:28<03:05,  1.36it/s]"
     ]
    },
    {
     "name": "stdout",
     "output_type": "stream",
     "text": [
      "📊 Data Scale Analysis:\n",
      "   Sales: mean=10333.8, std=2250.0\n",
      "   Spend: mean=5024.1, std=981.8\n",
      "Training STGCN model for 10 epochs...\n"
     ]
    },
    {
     "name": "stderr",
     "output_type": "stream",
     "text": [
      "Training STGCN: 100%|██████████| 10/10 [00:04<00:00,  2.36it/s]\n"
     ]
    },
    {
     "name": "stdout",
     "output_type": "stream",
     "text": [
      "STGCN training completed. Final loss: 0.074860\n",
      "✅ Model training converged well!\n"
     ]
    },
    {
     "name": "stderr",
     "output_type": "stream",
     "text": [
      "Running evaluations:  51%|█████     | 254/500 [04:34<03:03,  1.34it/s]"
     ]
    },
    {
     "name": "stdout",
     "output_type": "stream",
     "text": [
      "📊 Data Scale Analysis:\n",
      "   Sales: mean=9723.2, std=2101.8\n",
      "   Spend: mean=4999.7, std=944.1\n",
      "Training STGCN model for 10 epochs...\n"
     ]
    },
    {
     "name": "stderr",
     "output_type": "stream",
     "text": [
      "Training STGCN: 100%|██████████| 10/10 [00:04<00:00,  2.38it/s]\n"
     ]
    },
    {
     "name": "stdout",
     "output_type": "stream",
     "text": [
      "STGCN training completed. Final loss: 0.088461\n",
      "✅ Model training converged well!\n"
     ]
    },
    {
     "name": "stderr",
     "output_type": "stream",
     "text": [
      "Running evaluations:  52%|█████▏    | 259/500 [04:40<02:50,  1.41it/s]"
     ]
    },
    {
     "name": "stdout",
     "output_type": "stream",
     "text": [
      "📊 Data Scale Analysis:\n",
      "   Sales: mean=10284.9, std=2059.8\n",
      "   Spend: mean=4968.9, std=972.7\n",
      "Training STGCN model for 10 epochs...\n"
     ]
    },
    {
     "name": "stderr",
     "output_type": "stream",
     "text": [
      "Training STGCN: 100%|██████████| 10/10 [00:04<00:00,  2.40it/s]\n"
     ]
    },
    {
     "name": "stdout",
     "output_type": "stream",
     "text": [
      "STGCN training completed. Final loss: 0.081534\n",
      "✅ Model training converged well!\n"
     ]
    },
    {
     "name": "stderr",
     "output_type": "stream",
     "text": [
      "Running evaluations:  53%|█████▎    | 264/500 [04:45<02:51,  1.38it/s]"
     ]
    },
    {
     "name": "stdout",
     "output_type": "stream",
     "text": [
      "📊 Data Scale Analysis:\n",
      "   Sales: mean=10082.1, std=1689.3\n",
      "   Spend: mean=4986.9, std=1075.6\n",
      "Training STGCN model for 10 epochs...\n"
     ]
    },
    {
     "name": "stderr",
     "output_type": "stream",
     "text": [
      "Training STGCN: 100%|██████████| 10/10 [00:04<00:00,  2.36it/s]\n"
     ]
    },
    {
     "name": "stdout",
     "output_type": "stream",
     "text": [
      "STGCN training completed. Final loss: 0.099665\n",
      "✅ Model training converged well!\n"
     ]
    },
    {
     "name": "stderr",
     "output_type": "stream",
     "text": [
      "Running evaluations:  54%|█████▍    | 269/500 [04:51<02:49,  1.36it/s]"
     ]
    },
    {
     "name": "stdout",
     "output_type": "stream",
     "text": [
      "📊 Data Scale Analysis:\n",
      "   Sales: mean=9857.4, std=1851.7\n",
      "   Spend: mean=4972.1, std=939.9\n",
      "Training STGCN model for 10 epochs...\n"
     ]
    },
    {
     "name": "stderr",
     "output_type": "stream",
     "text": [
      "Training STGCN: 100%|██████████| 10/10 [00:04<00:00,  2.35it/s]\n"
     ]
    },
    {
     "name": "stdout",
     "output_type": "stream",
     "text": [
      "STGCN training completed. Final loss: 0.094327\n",
      "✅ Model training converged well!\n"
     ]
    },
    {
     "name": "stderr",
     "output_type": "stream",
     "text": [
      "Running evaluations:  55%|█████▍    | 274/500 [04:56<02:47,  1.35it/s]"
     ]
    },
    {
     "name": "stdout",
     "output_type": "stream",
     "text": [
      "📊 Data Scale Analysis:\n",
      "   Sales: mean=9736.3, std=1761.3\n",
      "   Spend: mean=4772.6, std=1000.0\n",
      "Training STGCN model for 10 epochs...\n"
     ]
    },
    {
     "name": "stderr",
     "output_type": "stream",
     "text": [
      "Training STGCN: 100%|██████████| 10/10 [00:04<00:00,  2.40it/s]\n"
     ]
    },
    {
     "name": "stdout",
     "output_type": "stream",
     "text": [
      "STGCN training completed. Final loss: 0.099409\n",
      "✅ Model training converged well!\n"
     ]
    },
    {
     "name": "stderr",
     "output_type": "stream",
     "text": [
      "Running evaluations:  56%|█████▌    | 279/500 [05:02<02:41,  1.37it/s]"
     ]
    },
    {
     "name": "stdout",
     "output_type": "stream",
     "text": [
      "📊 Data Scale Analysis:\n",
      "   Sales: mean=9762.5, std=1640.9\n",
      "   Spend: mean=4891.4, std=1044.9\n",
      "Training STGCN model for 10 epochs...\n"
     ]
    },
    {
     "name": "stderr",
     "output_type": "stream",
     "text": [
      "Training STGCN: 100%|██████████| 10/10 [00:04<00:00,  2.41it/s]\n"
     ]
    },
    {
     "name": "stdout",
     "output_type": "stream",
     "text": [
      "STGCN training completed. Final loss: 0.106467\n",
      "✅ Model training converged well!\n"
     ]
    },
    {
     "name": "stderr",
     "output_type": "stream",
     "text": [
      "Running evaluations:  57%|█████▋    | 284/500 [05:07<02:39,  1.35it/s]"
     ]
    },
    {
     "name": "stdout",
     "output_type": "stream",
     "text": [
      "📊 Data Scale Analysis:\n",
      "   Sales: mean=9761.9, std=2166.9\n",
      "   Spend: mean=4802.4, std=1011.7\n",
      "Training STGCN model for 10 epochs...\n"
     ]
    },
    {
     "name": "stderr",
     "output_type": "stream",
     "text": [
      "Training STGCN: 100%|██████████| 10/10 [00:04<00:00,  2.36it/s]\n"
     ]
    },
    {
     "name": "stdout",
     "output_type": "stream",
     "text": [
      "STGCN training completed. Final loss: 0.079461\n",
      "✅ Model training converged well!\n"
     ]
    },
    {
     "name": "stderr",
     "output_type": "stream",
     "text": [
      "Running evaluations:  58%|█████▊    | 289/500 [05:13<02:35,  1.35it/s]"
     ]
    },
    {
     "name": "stdout",
     "output_type": "stream",
     "text": [
      "📊 Data Scale Analysis:\n",
      "   Sales: mean=10016.9, std=2026.5\n",
      "   Spend: mean=5118.2, std=1023.4\n",
      "Training STGCN model for 10 epochs...\n"
     ]
    },
    {
     "name": "stderr",
     "output_type": "stream",
     "text": [
      "Training STGCN: 100%|██████████| 10/10 [00:04<00:00,  2.38it/s]\n"
     ]
    },
    {
     "name": "stdout",
     "output_type": "stream",
     "text": [
      "STGCN training completed. Final loss: 0.088494\n",
      "✅ Model training converged well!\n"
     ]
    },
    {
     "name": "stderr",
     "output_type": "stream",
     "text": [
      "Running evaluations:  59%|█████▉    | 294/500 [05:18<02:30,  1.37it/s]"
     ]
    },
    {
     "name": "stdout",
     "output_type": "stream",
     "text": [
      "📊 Data Scale Analysis:\n",
      "   Sales: mean=9929.1, std=1938.3\n",
      "   Spend: mean=4830.2, std=1016.1\n",
      "Training STGCN model for 10 epochs...\n"
     ]
    },
    {
     "name": "stderr",
     "output_type": "stream",
     "text": [
      "Training STGCN: 100%|██████████| 10/10 [00:04<00:00,  2.34it/s]\n"
     ]
    },
    {
     "name": "stdout",
     "output_type": "stream",
     "text": [
      "STGCN training completed. Final loss: 0.095548\n",
      "✅ Model training converged well!\n"
     ]
    },
    {
     "name": "stderr",
     "output_type": "stream",
     "text": [
      "Running evaluations:  60%|█████▉    | 299/500 [05:24<02:29,  1.35it/s]"
     ]
    },
    {
     "name": "stdout",
     "output_type": "stream",
     "text": [
      "📊 Data Scale Analysis:\n",
      "   Sales: mean=10559.5, std=2116.6\n",
      "   Spend: mean=5067.7, std=1058.5\n",
      "Training STGCN model for 10 epochs...\n"
     ]
    },
    {
     "name": "stderr",
     "output_type": "stream",
     "text": [
      "Training STGCN: 100%|██████████| 10/10 [00:04<00:00,  2.39it/s]\n"
     ]
    },
    {
     "name": "stdout",
     "output_type": "stream",
     "text": [
      "STGCN training completed. Final loss: 0.081417\n",
      "✅ Model training converged well!\n"
     ]
    },
    {
     "name": "stderr",
     "output_type": "stream",
     "text": [
      "Running evaluations:  61%|██████    | 304/500 [05:29<02:25,  1.34it/s]"
     ]
    },
    {
     "name": "stdout",
     "output_type": "stream",
     "text": [
      "📊 Data Scale Analysis:\n",
      "   Sales: mean=10190.6, std=2272.4\n",
      "   Spend: mean=4807.6, std=919.6\n",
      "Training STGCN model for 10 epochs...\n"
     ]
    },
    {
     "name": "stderr",
     "output_type": "stream",
     "text": [
      "Training STGCN: 100%|██████████| 10/10 [00:04<00:00,  2.35it/s]\n"
     ]
    },
    {
     "name": "stdout",
     "output_type": "stream",
     "text": [
      "STGCN training completed. Final loss: 0.079322\n",
      "✅ Model training converged well!\n"
     ]
    },
    {
     "name": "stderr",
     "output_type": "stream",
     "text": [
      "Running evaluations:  62%|██████▏   | 309/500 [05:35<02:22,  1.34it/s]"
     ]
    },
    {
     "name": "stdout",
     "output_type": "stream",
     "text": [
      "📊 Data Scale Analysis:\n",
      "   Sales: mean=10000.1, std=2090.7\n",
      "   Spend: mean=5064.1, std=961.1\n",
      "Training STGCN model for 10 epochs...\n"
     ]
    },
    {
     "name": "stderr",
     "output_type": "stream",
     "text": [
      "Training STGCN: 100%|██████████| 10/10 [00:04<00:00,  2.36it/s]\n"
     ]
    },
    {
     "name": "stdout",
     "output_type": "stream",
     "text": [
      "STGCN training completed. Final loss: 0.086780\n",
      "✅ Model training converged well!\n"
     ]
    },
    {
     "name": "stderr",
     "output_type": "stream",
     "text": [
      "Running evaluations:  63%|██████▎   | 314/500 [05:40<02:17,  1.35it/s]"
     ]
    },
    {
     "name": "stdout",
     "output_type": "stream",
     "text": [
      "📊 Data Scale Analysis:\n",
      "   Sales: mean=9945.4, std=1755.4\n",
      "   Spend: mean=4883.0, std=848.4\n",
      "Training STGCN model for 10 epochs...\n"
     ]
    },
    {
     "name": "stderr",
     "output_type": "stream",
     "text": [
      "Training STGCN: 100%|██████████| 10/10 [00:04<00:00,  2.36it/s]\n"
     ]
    },
    {
     "name": "stdout",
     "output_type": "stream",
     "text": [
      "STGCN training completed. Final loss: 0.112294\n",
      "✅ Model training converged well!\n"
     ]
    },
    {
     "name": "stderr",
     "output_type": "stream",
     "text": [
      "Running evaluations:  64%|██████▍   | 319/500 [05:46<02:13,  1.36it/s]"
     ]
    },
    {
     "name": "stdout",
     "output_type": "stream",
     "text": [
      "📊 Data Scale Analysis:\n",
      "   Sales: mean=10261.3, std=2167.4\n",
      "   Spend: mean=4808.9, std=1242.8\n",
      "Training STGCN model for 10 epochs...\n"
     ]
    },
    {
     "name": "stderr",
     "output_type": "stream",
     "text": [
      "Training STGCN: 100%|██████████| 10/10 [00:04<00:00,  2.38it/s]\n"
     ]
    },
    {
     "name": "stdout",
     "output_type": "stream",
     "text": [
      "STGCN training completed. Final loss: 0.064946\n",
      "✅ Model training converged well!\n"
     ]
    },
    {
     "name": "stderr",
     "output_type": "stream",
     "text": [
      "Running evaluations:  65%|██████▍   | 324/500 [05:51<02:09,  1.36it/s]"
     ]
    },
    {
     "name": "stdout",
     "output_type": "stream",
     "text": [
      "📊 Data Scale Analysis:\n",
      "   Sales: mean=9675.9, std=2251.4\n",
      "   Spend: mean=4839.2, std=903.2\n",
      "Training STGCN model for 10 epochs...\n"
     ]
    },
    {
     "name": "stderr",
     "output_type": "stream",
     "text": [
      "Training STGCN: 100%|██████████| 10/10 [00:04<00:00,  2.39it/s]\n"
     ]
    },
    {
     "name": "stdout",
     "output_type": "stream",
     "text": [
      "STGCN training completed. Final loss: 0.086733\n",
      "✅ Model training converged well!\n"
     ]
    },
    {
     "name": "stderr",
     "output_type": "stream",
     "text": [
      "Running evaluations:  66%|██████▌   | 329/500 [05:57<02:05,  1.37it/s]"
     ]
    },
    {
     "name": "stdout",
     "output_type": "stream",
     "text": [
      "📊 Data Scale Analysis:\n",
      "   Sales: mean=9807.5, std=2042.9\n",
      "   Spend: mean=4999.0, std=1032.9\n",
      "Training STGCN model for 10 epochs...\n"
     ]
    },
    {
     "name": "stderr",
     "output_type": "stream",
     "text": [
      "Training STGCN: 100%|██████████| 10/10 [00:04<00:00,  2.39it/s]\n"
     ]
    },
    {
     "name": "stdout",
     "output_type": "stream",
     "text": [
      "STGCN training completed. Final loss: 0.089883\n",
      "✅ Model training converged well!\n"
     ]
    },
    {
     "name": "stderr",
     "output_type": "stream",
     "text": [
      "Running evaluations:  67%|██████▋   | 334/500 [06:02<02:02,  1.36it/s]"
     ]
    },
    {
     "name": "stdout",
     "output_type": "stream",
     "text": [
      "📊 Data Scale Analysis:\n",
      "   Sales: mean=10606.6, std=1867.5\n",
      "   Spend: mean=5061.7, std=875.2\n",
      "Training STGCN model for 10 epochs...\n"
     ]
    },
    {
     "name": "stderr",
     "output_type": "stream",
     "text": [
      "Training STGCN: 100%|██████████| 10/10 [00:04<00:00,  2.35it/s]\n"
     ]
    },
    {
     "name": "stdout",
     "output_type": "stream",
     "text": [
      "STGCN training completed. Final loss: 0.100366\n",
      "✅ Model training converged well!\n"
     ]
    },
    {
     "name": "stderr",
     "output_type": "stream",
     "text": [
      "Running evaluations:  68%|██████▊   | 339/500 [06:08<01:58,  1.35it/s]"
     ]
    },
    {
     "name": "stdout",
     "output_type": "stream",
     "text": [
      "📊 Data Scale Analysis:\n",
      "   Sales: mean=10278.8, std=1657.3\n",
      "   Spend: mean=5129.1, std=968.2\n",
      "Training STGCN model for 10 epochs...\n"
     ]
    },
    {
     "name": "stderr",
     "output_type": "stream",
     "text": [
      "Training STGCN: 100%|██████████| 10/10 [00:04<00:00,  2.39it/s]\n"
     ]
    },
    {
     "name": "stdout",
     "output_type": "stream",
     "text": [
      "STGCN training completed. Final loss: 0.112576\n",
      "✅ Model training converged well!\n"
     ]
    },
    {
     "name": "stderr",
     "output_type": "stream",
     "text": [
      "Running evaluations:  69%|██████▉   | 344/500 [06:13<01:54,  1.36it/s]"
     ]
    },
    {
     "name": "stdout",
     "output_type": "stream",
     "text": [
      "📊 Data Scale Analysis:\n",
      "   Sales: mean=10013.0, std=2014.1\n",
      "   Spend: mean=4911.1, std=1043.4\n",
      "Training STGCN model for 10 epochs...\n"
     ]
    },
    {
     "name": "stderr",
     "output_type": "stream",
     "text": [
      "Training STGCN: 100%|██████████| 10/10 [00:04<00:00,  2.39it/s]\n"
     ]
    },
    {
     "name": "stdout",
     "output_type": "stream",
     "text": [
      "STGCN training completed. Final loss: 0.076965\n",
      "✅ Model training converged well!\n"
     ]
    },
    {
     "name": "stderr",
     "output_type": "stream",
     "text": [
      "Running evaluations:  70%|██████▉   | 349/500 [06:19<01:52,  1.34it/s]"
     ]
    },
    {
     "name": "stdout",
     "output_type": "stream",
     "text": [
      "📊 Data Scale Analysis:\n",
      "   Sales: mean=9874.1, std=2012.4\n",
      "   Spend: mean=5038.8, std=976.8\n",
      "Training STGCN model for 10 epochs...\n"
     ]
    },
    {
     "name": "stderr",
     "output_type": "stream",
     "text": [
      "Training STGCN: 100%|██████████| 10/10 [00:04<00:00,  2.40it/s]\n"
     ]
    },
    {
     "name": "stdout",
     "output_type": "stream",
     "text": [
      "STGCN training completed. Final loss: 0.084703\n",
      "✅ Model training converged well!\n"
     ]
    },
    {
     "name": "stderr",
     "output_type": "stream",
     "text": [
      "Running evaluations:  71%|███████   | 354/500 [06:24<01:46,  1.36it/s]"
     ]
    },
    {
     "name": "stdout",
     "output_type": "stream",
     "text": [
      "📊 Data Scale Analysis:\n",
      "   Sales: mean=10200.7, std=1701.4\n",
      "   Spend: mean=4718.7, std=814.2\n",
      "Training STGCN model for 10 epochs...\n"
     ]
    },
    {
     "name": "stderr",
     "output_type": "stream",
     "text": [
      "Training STGCN: 100%|██████████| 10/10 [00:04<00:00,  2.41it/s]\n"
     ]
    },
    {
     "name": "stdout",
     "output_type": "stream",
     "text": [
      "STGCN training completed. Final loss: 0.117619\n",
      "✅ Model training converged well!\n"
     ]
    },
    {
     "name": "stderr",
     "output_type": "stream",
     "text": [
      "Running evaluations:  72%|███████▏  | 359/500 [06:30<01:44,  1.36it/s]"
     ]
    },
    {
     "name": "stdout",
     "output_type": "stream",
     "text": [
      "📊 Data Scale Analysis:\n",
      "   Sales: mean=9895.3, std=1924.4\n",
      "   Spend: mean=5157.7, std=909.8\n",
      "Training STGCN model for 10 epochs...\n"
     ]
    },
    {
     "name": "stderr",
     "output_type": "stream",
     "text": [
      "Training STGCN: 100%|██████████| 10/10 [00:04<00:00,  2.36it/s]\n"
     ]
    },
    {
     "name": "stdout",
     "output_type": "stream",
     "text": [
      "STGCN training completed. Final loss: 0.093696\n",
      "✅ Model training converged well!\n"
     ]
    },
    {
     "name": "stderr",
     "output_type": "stream",
     "text": [
      "Running evaluations:  73%|███████▎  | 364/500 [06:35<01:40,  1.36it/s]"
     ]
    },
    {
     "name": "stdout",
     "output_type": "stream",
     "text": [
      "📊 Data Scale Analysis:\n",
      "   Sales: mean=9979.8, std=2046.7\n",
      "   Spend: mean=4929.1, std=1104.7\n",
      "Training STGCN model for 10 epochs...\n"
     ]
    },
    {
     "name": "stderr",
     "output_type": "stream",
     "text": [
      "Training STGCN: 100%|██████████| 10/10 [00:04<00:00,  2.38it/s]\n"
     ]
    },
    {
     "name": "stdout",
     "output_type": "stream",
     "text": [
      "STGCN training completed. Final loss: 0.079279\n",
      "✅ Model training converged well!\n"
     ]
    },
    {
     "name": "stderr",
     "output_type": "stream",
     "text": [
      "Running evaluations:  74%|███████▍  | 369/500 [06:41<01:36,  1.35it/s]"
     ]
    },
    {
     "name": "stdout",
     "output_type": "stream",
     "text": [
      "📊 Data Scale Analysis:\n",
      "   Sales: mean=9903.0, std=1992.0\n",
      "   Spend: mean=5092.2, std=1096.7\n",
      "Training STGCN model for 10 epochs...\n"
     ]
    },
    {
     "name": "stderr",
     "output_type": "stream",
     "text": [
      "Training STGCN: 100%|██████████| 10/10 [00:04<00:00,  2.35it/s]\n"
     ]
    },
    {
     "name": "stdout",
     "output_type": "stream",
     "text": [
      "STGCN training completed. Final loss: 0.075100\n",
      "✅ Model training converged well!\n"
     ]
    },
    {
     "name": "stderr",
     "output_type": "stream",
     "text": [
      "Running evaluations:  75%|███████▍  | 374/500 [06:47<01:32,  1.36it/s]"
     ]
    },
    {
     "name": "stdout",
     "output_type": "stream",
     "text": [
      "📊 Data Scale Analysis:\n",
      "   Sales: mean=10037.4, std=1994.9\n",
      "   Spend: mean=5110.4, std=1035.0\n",
      "Training STGCN model for 10 epochs...\n"
     ]
    },
    {
     "name": "stderr",
     "output_type": "stream",
     "text": [
      "Training STGCN: 100%|██████████| 10/10 [00:04<00:00,  2.36it/s]\n"
     ]
    },
    {
     "name": "stdout",
     "output_type": "stream",
     "text": [
      "STGCN training completed. Final loss: 0.087695\n",
      "✅ Model training converged well!\n"
     ]
    },
    {
     "name": "stderr",
     "output_type": "stream",
     "text": [
      "Running evaluations:  76%|███████▌  | 379/500 [06:52<01:29,  1.35it/s]"
     ]
    },
    {
     "name": "stdout",
     "output_type": "stream",
     "text": [
      "📊 Data Scale Analysis:\n",
      "   Sales: mean=10416.2, std=1757.2\n",
      "   Spend: mean=5108.2, std=1149.8\n",
      "Training STGCN model for 10 epochs...\n"
     ]
    },
    {
     "name": "stderr",
     "output_type": "stream",
     "text": [
      "Training STGCN: 100%|██████████| 10/10 [00:04<00:00,  2.27it/s]\n"
     ]
    },
    {
     "name": "stdout",
     "output_type": "stream",
     "text": [
      "STGCN training completed. Final loss: 0.092916\n",
      "✅ Model training converged well!\n"
     ]
    },
    {
     "name": "stderr",
     "output_type": "stream",
     "text": [
      "Running evaluations:  77%|███████▋  | 384/500 [06:58<01:28,  1.32it/s]"
     ]
    },
    {
     "name": "stdout",
     "output_type": "stream",
     "text": [
      "📊 Data Scale Analysis:\n",
      "   Sales: mean=10326.8, std=2187.7\n",
      "   Spend: mean=5145.0, std=930.9\n",
      "Training STGCN model for 10 epochs...\n"
     ]
    },
    {
     "name": "stderr",
     "output_type": "stream",
     "text": [
      "Training STGCN: 100%|██████████| 10/10 [00:04<00:00,  2.28it/s]\n"
     ]
    },
    {
     "name": "stdout",
     "output_type": "stream",
     "text": [
      "STGCN training completed. Final loss: 0.085934\n",
      "✅ Model training converged well!\n"
     ]
    },
    {
     "name": "stderr",
     "output_type": "stream",
     "text": [
      "Running evaluations:  78%|███████▊  | 389/500 [07:04<01:22,  1.35it/s]"
     ]
    },
    {
     "name": "stdout",
     "output_type": "stream",
     "text": [
      "📊 Data Scale Analysis:\n",
      "   Sales: mean=10097.8, std=1902.7\n",
      "   Spend: mean=4941.6, std=1071.7\n",
      "Training STGCN model for 10 epochs...\n"
     ]
    },
    {
     "name": "stderr",
     "output_type": "stream",
     "text": [
      "Training STGCN: 100%|██████████| 10/10 [00:04<00:00,  2.39it/s]\n"
     ]
    },
    {
     "name": "stdout",
     "output_type": "stream",
     "text": [
      "STGCN training completed. Final loss: 0.087476\n",
      "✅ Model training converged well!\n"
     ]
    },
    {
     "name": "stderr",
     "output_type": "stream",
     "text": [
      "Running evaluations:  79%|███████▉  | 394/500 [07:09<01:17,  1.36it/s]"
     ]
    },
    {
     "name": "stdout",
     "output_type": "stream",
     "text": [
      "📊 Data Scale Analysis:\n",
      "   Sales: mean=10314.7, std=2011.0\n",
      "   Spend: mean=5081.2, std=933.2\n",
      "Training STGCN model for 10 epochs...\n"
     ]
    },
    {
     "name": "stderr",
     "output_type": "stream",
     "text": [
      "Training STGCN: 100%|██████████| 10/10 [00:04<00:00,  2.40it/s]\n"
     ]
    },
    {
     "name": "stdout",
     "output_type": "stream",
     "text": [
      "STGCN training completed. Final loss: 0.089867\n",
      "✅ Model training converged well!\n"
     ]
    },
    {
     "name": "stderr",
     "output_type": "stream",
     "text": [
      "Running evaluations:  80%|███████▉  | 399/500 [07:15<01:14,  1.36it/s]"
     ]
    },
    {
     "name": "stdout",
     "output_type": "stream",
     "text": [
      "📊 Data Scale Analysis:\n",
      "   Sales: mean=9874.5, std=2232.5\n",
      "   Spend: mean=5108.4, std=989.3\n",
      "Training STGCN model for 10 epochs...\n"
     ]
    },
    {
     "name": "stderr",
     "output_type": "stream",
     "text": [
      "Training STGCN: 100%|██████████| 10/10 [00:04<00:00,  2.29it/s]\n"
     ]
    },
    {
     "name": "stdout",
     "output_type": "stream",
     "text": [
      "STGCN training completed. Final loss: 0.079169\n",
      "✅ Model training converged well!\n"
     ]
    },
    {
     "name": "stderr",
     "output_type": "stream",
     "text": [
      "Running evaluations:  81%|████████  | 404/500 [07:20<01:12,  1.33it/s]"
     ]
    },
    {
     "name": "stdout",
     "output_type": "stream",
     "text": [
      "📊 Data Scale Analysis:\n",
      "   Sales: mean=9469.2, std=2005.7\n",
      "   Spend: mean=4842.5, std=1087.6\n",
      "Training STGCN model for 10 epochs...\n"
     ]
    },
    {
     "name": "stderr",
     "output_type": "stream",
     "text": [
      "Training STGCN: 100%|██████████| 10/10 [00:04<00:00,  2.29it/s]\n"
     ]
    },
    {
     "name": "stdout",
     "output_type": "stream",
     "text": [
      "STGCN training completed. Final loss: 0.082556\n",
      "✅ Model training converged well!\n"
     ]
    },
    {
     "name": "stderr",
     "output_type": "stream",
     "text": [
      "Running evaluations:  82%|████████▏ | 409/500 [07:26<01:08,  1.32it/s]"
     ]
    },
    {
     "name": "stdout",
     "output_type": "stream",
     "text": [
      "📊 Data Scale Analysis:\n",
      "   Sales: mean=10021.1, std=2422.3\n",
      "   Spend: mean=5047.8, std=1081.8\n",
      "Training STGCN model for 10 epochs...\n"
     ]
    },
    {
     "name": "stderr",
     "output_type": "stream",
     "text": [
      "Training STGCN: 100%|██████████| 10/10 [00:04<00:00,  2.26it/s]\n"
     ]
    },
    {
     "name": "stdout",
     "output_type": "stream",
     "text": [
      "STGCN training completed. Final loss: 0.066951\n",
      "✅ Model training converged well!\n"
     ]
    },
    {
     "name": "stderr",
     "output_type": "stream",
     "text": [
      "Running evaluations:  83%|████████▎ | 414/500 [07:32<01:06,  1.30it/s]"
     ]
    },
    {
     "name": "stdout",
     "output_type": "stream",
     "text": [
      "📊 Data Scale Analysis:\n",
      "   Sales: mean=9898.2, std=2105.5\n",
      "   Spend: mean=5284.8, std=930.6\n",
      "Training STGCN model for 10 epochs...\n"
     ]
    },
    {
     "name": "stderr",
     "output_type": "stream",
     "text": [
      "Training STGCN: 100%|██████████| 10/10 [00:04<00:00,  2.16it/s]\n"
     ]
    },
    {
     "name": "stdout",
     "output_type": "stream",
     "text": [
      "STGCN training completed. Final loss: 0.085031\n",
      "✅ Model training converged well!\n"
     ]
    },
    {
     "name": "stderr",
     "output_type": "stream",
     "text": [
      "Running evaluations:  84%|████████▍ | 419/500 [07:38<01:04,  1.26it/s]"
     ]
    },
    {
     "name": "stdout",
     "output_type": "stream",
     "text": [
      "📊 Data Scale Analysis:\n",
      "   Sales: mean=9642.8, std=1969.1\n",
      "   Spend: mean=5147.6, std=1027.6\n",
      "Training STGCN model for 10 epochs...\n"
     ]
    },
    {
     "name": "stderr",
     "output_type": "stream",
     "text": [
      "Training STGCN: 100%|██████████| 10/10 [00:04<00:00,  2.40it/s]\n"
     ]
    },
    {
     "name": "stdout",
     "output_type": "stream",
     "text": [
      "STGCN training completed. Final loss: 0.087895\n",
      "✅ Model training converged well!\n"
     ]
    },
    {
     "name": "stderr",
     "output_type": "stream",
     "text": [
      "Running evaluations:  85%|████████▍ | 424/500 [07:43<00:56,  1.34it/s]"
     ]
    },
    {
     "name": "stdout",
     "output_type": "stream",
     "text": [
      "📊 Data Scale Analysis:\n",
      "   Sales: mean=9831.9, std=2334.0\n",
      "   Spend: mean=4906.1, std=1054.5\n",
      "Training STGCN model for 10 epochs...\n"
     ]
    },
    {
     "name": "stderr",
     "output_type": "stream",
     "text": [
      "Training STGCN: 100%|██████████| 10/10 [00:04<00:00,  2.39it/s]\n"
     ]
    },
    {
     "name": "stdout",
     "output_type": "stream",
     "text": [
      "STGCN training completed. Final loss: 0.071100\n",
      "✅ Model training converged well!\n"
     ]
    },
    {
     "name": "stderr",
     "output_type": "stream",
     "text": [
      "Running evaluations:  86%|████████▌ | 429/500 [07:49<00:52,  1.34it/s]"
     ]
    },
    {
     "name": "stdout",
     "output_type": "stream",
     "text": [
      "📊 Data Scale Analysis:\n",
      "   Sales: mean=9930.5, std=1938.6\n",
      "   Spend: mean=4941.3, std=1022.5\n",
      "Training STGCN model for 10 epochs...\n"
     ]
    },
    {
     "name": "stderr",
     "output_type": "stream",
     "text": [
      "Training STGCN: 100%|██████████| 10/10 [00:04<00:00,  2.39it/s]\n"
     ]
    },
    {
     "name": "stdout",
     "output_type": "stream",
     "text": [
      "STGCN training completed. Final loss: 0.083665\n",
      "✅ Model training converged well!\n"
     ]
    },
    {
     "name": "stderr",
     "output_type": "stream",
     "text": [
      "Running evaluations:  87%|████████▋ | 434/500 [07:54<00:48,  1.35it/s]"
     ]
    },
    {
     "name": "stdout",
     "output_type": "stream",
     "text": [
      "📊 Data Scale Analysis:\n",
      "   Sales: mean=9954.4, std=1708.8\n",
      "   Spend: mean=5169.0, std=1054.6\n",
      "Training STGCN model for 10 epochs...\n"
     ]
    },
    {
     "name": "stderr",
     "output_type": "stream",
     "text": [
      "Training STGCN: 100%|██████████| 10/10 [00:04<00:00,  2.32it/s]\n"
     ]
    },
    {
     "name": "stdout",
     "output_type": "stream",
     "text": [
      "STGCN training completed. Final loss: 0.103269\n",
      "✅ Model training converged well!\n"
     ]
    },
    {
     "name": "stderr",
     "output_type": "stream",
     "text": [
      "Running evaluations:  88%|████████▊ | 439/500 [08:00<00:46,  1.32it/s]"
     ]
    },
    {
     "name": "stdout",
     "output_type": "stream",
     "text": [
      "📊 Data Scale Analysis:\n",
      "   Sales: mean=9397.3, std=1704.5\n",
      "   Spend: mean=4807.8, std=996.0\n",
      "Training STGCN model for 10 epochs...\n"
     ]
    },
    {
     "name": "stderr",
     "output_type": "stream",
     "text": [
      "Training STGCN: 100%|██████████| 10/10 [00:04<00:00,  2.28it/s]\n"
     ]
    },
    {
     "name": "stdout",
     "output_type": "stream",
     "text": [
      "STGCN training completed. Final loss: 0.101289\n",
      "✅ Model training converged well!\n"
     ]
    },
    {
     "name": "stderr",
     "output_type": "stream",
     "text": [
      "Running evaluations:  89%|████████▉ | 444/500 [08:06<00:42,  1.32it/s]"
     ]
    },
    {
     "name": "stdout",
     "output_type": "stream",
     "text": [
      "📊 Data Scale Analysis:\n",
      "   Sales: mean=9980.9, std=1569.7\n",
      "   Spend: mean=5316.6, std=1224.6\n",
      "Training STGCN model for 10 epochs...\n"
     ]
    },
    {
     "name": "stderr",
     "output_type": "stream",
     "text": [
      "Training STGCN: 100%|██████████| 10/10 [00:04<00:00,  2.31it/s]\n"
     ]
    },
    {
     "name": "stdout",
     "output_type": "stream",
     "text": [
      "STGCN training completed. Final loss: 0.100150\n",
      "✅ Model training converged well!\n"
     ]
    },
    {
     "name": "stderr",
     "output_type": "stream",
     "text": [
      "Running evaluations:  90%|████████▉ | 449/500 [08:11<00:38,  1.33it/s]"
     ]
    },
    {
     "name": "stdout",
     "output_type": "stream",
     "text": [
      "📊 Data Scale Analysis:\n",
      "   Sales: mean=10123.3, std=2089.6\n",
      "   Spend: mean=4930.2, std=1066.4\n",
      "Training STGCN model for 10 epochs...\n"
     ]
    },
    {
     "name": "stderr",
     "output_type": "stream",
     "text": [
      "Training STGCN: 100%|██████████| 10/10 [00:04<00:00,  2.36it/s]\n"
     ]
    },
    {
     "name": "stdout",
     "output_type": "stream",
     "text": [
      "STGCN training completed. Final loss: 0.080461\n",
      "✅ Model training converged well!\n"
     ]
    },
    {
     "name": "stderr",
     "output_type": "stream",
     "text": [
      "Running evaluations:  91%|█████████ | 454/500 [08:17<00:34,  1.33it/s]"
     ]
    },
    {
     "name": "stdout",
     "output_type": "stream",
     "text": [
      "📊 Data Scale Analysis:\n",
      "   Sales: mean=9769.0, std=1587.1\n",
      "   Spend: mean=4993.9, std=949.6\n",
      "Training STGCN model for 10 epochs...\n"
     ]
    },
    {
     "name": "stderr",
     "output_type": "stream",
     "text": [
      "Training STGCN: 100%|██████████| 10/10 [00:04<00:00,  2.26it/s]\n"
     ]
    },
    {
     "name": "stdout",
     "output_type": "stream",
     "text": [
      "STGCN training completed. Final loss: 0.114166\n",
      "✅ Model training converged well!\n"
     ]
    },
    {
     "name": "stderr",
     "output_type": "stream",
     "text": [
      "Running evaluations:  92%|█████████▏| 459/500 [08:23<00:31,  1.29it/s]"
     ]
    },
    {
     "name": "stdout",
     "output_type": "stream",
     "text": [
      "📊 Data Scale Analysis:\n",
      "   Sales: mean=9636.3, std=2213.2\n",
      "   Spend: mean=5088.7, std=950.6\n",
      "Training STGCN model for 10 epochs...\n"
     ]
    },
    {
     "name": "stderr",
     "output_type": "stream",
     "text": [
      "Training STGCN: 100%|██████████| 10/10 [00:04<00:00,  2.40it/s]\n"
     ]
    },
    {
     "name": "stdout",
     "output_type": "stream",
     "text": [
      "STGCN training completed. Final loss: 0.080320\n",
      "✅ Model training converged well!\n"
     ]
    },
    {
     "name": "stderr",
     "output_type": "stream",
     "text": [
      "Running evaluations:  93%|█████████▎| 464/500 [08:28<00:26,  1.33it/s]"
     ]
    },
    {
     "name": "stdout",
     "output_type": "stream",
     "text": [
      "📊 Data Scale Analysis:\n",
      "   Sales: mean=9870.1, std=1797.0\n",
      "   Spend: mean=4988.8, std=1135.4\n",
      "Training STGCN model for 10 epochs...\n"
     ]
    },
    {
     "name": "stderr",
     "output_type": "stream",
     "text": [
      "Training STGCN: 100%|██████████| 10/10 [00:04<00:00,  2.35it/s]\n"
     ]
    },
    {
     "name": "stdout",
     "output_type": "stream",
     "text": [
      "STGCN training completed. Final loss: 0.089156\n",
      "✅ Model training converged well!\n"
     ]
    },
    {
     "name": "stderr",
     "output_type": "stream",
     "text": [
      "Running evaluations:  94%|█████████▍| 469/500 [08:34<00:23,  1.33it/s]"
     ]
    },
    {
     "name": "stdout",
     "output_type": "stream",
     "text": [
      "📊 Data Scale Analysis:\n",
      "   Sales: mean=10153.5, std=1755.0\n",
      "   Spend: mean=5012.0, std=901.0\n",
      "Training STGCN model for 10 epochs...\n"
     ]
    },
    {
     "name": "stderr",
     "output_type": "stream",
     "text": [
      "Training STGCN: 100%|██████████| 10/10 [00:04<00:00,  2.37it/s]\n"
     ]
    },
    {
     "name": "stdout",
     "output_type": "stream",
     "text": [
      "STGCN training completed. Final loss: 0.103363\n",
      "✅ Model training converged well!\n"
     ]
    },
    {
     "name": "stderr",
     "output_type": "stream",
     "text": [
      "Running evaluations:  95%|█████████▍| 474/500 [08:40<00:19,  1.33it/s]"
     ]
    },
    {
     "name": "stdout",
     "output_type": "stream",
     "text": [
      "📊 Data Scale Analysis:\n",
      "   Sales: mean=9620.1, std=1846.7\n",
      "   Spend: mean=5113.0, std=1031.7\n",
      "Training STGCN model for 10 epochs...\n"
     ]
    },
    {
     "name": "stderr",
     "output_type": "stream",
     "text": [
      "Training STGCN: 100%|██████████| 10/10 [00:04<00:00,  2.32it/s]\n"
     ]
    },
    {
     "name": "stdout",
     "output_type": "stream",
     "text": [
      "STGCN training completed. Final loss: 0.091128\n",
      "✅ Model training converged well!\n"
     ]
    },
    {
     "name": "stderr",
     "output_type": "stream",
     "text": [
      "Running evaluations:  96%|█████████▌| 479/500 [08:45<00:15,  1.32it/s]"
     ]
    },
    {
     "name": "stdout",
     "output_type": "stream",
     "text": [
      "📊 Data Scale Analysis:\n",
      "   Sales: mean=10534.0, std=2358.5\n",
      "   Spend: mean=4999.6, std=842.4\n",
      "Training STGCN model for 10 epochs...\n"
     ]
    },
    {
     "name": "stderr",
     "output_type": "stream",
     "text": [
      "Training STGCN: 100%|██████████| 10/10 [00:04<00:00,  2.32it/s]\n"
     ]
    },
    {
     "name": "stdout",
     "output_type": "stream",
     "text": [
      "STGCN training completed. Final loss: 0.090727\n",
      "✅ Model training converged well!\n"
     ]
    },
    {
     "name": "stderr",
     "output_type": "stream",
     "text": [
      "Running evaluations:  97%|█████████▋| 484/500 [08:51<00:12,  1.32it/s]"
     ]
    },
    {
     "name": "stdout",
     "output_type": "stream",
     "text": [
      "📊 Data Scale Analysis:\n",
      "   Sales: mean=9847.0, std=2006.3\n",
      "   Spend: mean=4899.9, std=1103.8\n",
      "Training STGCN model for 10 epochs...\n"
     ]
    },
    {
     "name": "stderr",
     "output_type": "stream",
     "text": [
      "Training STGCN: 100%|██████████| 10/10 [00:04<00:00,  2.39it/s]\n"
     ]
    },
    {
     "name": "stdout",
     "output_type": "stream",
     "text": [
      "STGCN training completed. Final loss: 0.077702\n",
      "✅ Model training converged well!\n"
     ]
    },
    {
     "name": "stderr",
     "output_type": "stream",
     "text": [
      "Running evaluations:  98%|█████████▊| 489/500 [08:56<00:08,  1.35it/s]"
     ]
    },
    {
     "name": "stdout",
     "output_type": "stream",
     "text": [
      "📊 Data Scale Analysis:\n",
      "   Sales: mean=9791.5, std=2067.6\n",
      "   Spend: mean=5266.4, std=882.2\n",
      "Training STGCN model for 10 epochs...\n"
     ]
    },
    {
     "name": "stderr",
     "output_type": "stream",
     "text": [
      "Training STGCN: 100%|██████████| 10/10 [00:04<00:00,  2.41it/s]\n"
     ]
    },
    {
     "name": "stdout",
     "output_type": "stream",
     "text": [
      "STGCN training completed. Final loss: 0.101327\n",
      "✅ Model training converged well!\n"
     ]
    },
    {
     "name": "stderr",
     "output_type": "stream",
     "text": [
      "Running evaluations:  99%|█████████▉| 494/500 [09:02<00:04,  1.34it/s]"
     ]
    },
    {
     "name": "stdout",
     "output_type": "stream",
     "text": [
      "📊 Data Scale Analysis:\n",
      "   Sales: mean=10323.9, std=1865.8\n",
      "   Spend: mean=4982.6, std=1142.6\n",
      "Training STGCN model for 10 epochs...\n"
     ]
    },
    {
     "name": "stderr",
     "output_type": "stream",
     "text": [
      "Training STGCN: 100%|██████████| 10/10 [00:04<00:00,  2.35it/s]\n"
     ]
    },
    {
     "name": "stdout",
     "output_type": "stream",
     "text": [
      "STGCN training completed. Final loss: 0.085745\n",
      "✅ Model training converged well!\n"
     ]
    },
    {
     "name": "stderr",
     "output_type": "stream",
     "text": [
      "Running evaluations: 100%|█████████▉| 499/500 [09:07<00:00,  1.33it/s]"
     ]
    },
    {
     "name": "stdout",
     "output_type": "stream",
     "text": [
      "📊 Data Scale Analysis:\n",
      "   Sales: mean=9770.2, std=2208.6\n",
      "   Spend: mean=5036.1, std=1133.9\n",
      "Training STGCN model for 10 epochs...\n"
     ]
    },
    {
     "name": "stderr",
     "output_type": "stream",
     "text": [
      "Training STGCN: 100%|██████████| 10/10 [00:04<00:00,  2.40it/s]\n"
     ]
    },
    {
     "name": "stdout",
     "output_type": "stream",
     "text": [
      "STGCN training completed. Final loss: 0.072965\n",
      "✅ Model training converged well!\n"
     ]
    },
    {
     "name": "stderr",
     "output_type": "stream",
     "text": [
      "Running evaluations: 100%|██████████| 500/500 [09:13<00:00,  1.11s/it]\n"
     ]
    },
    {
     "name": "stdout",
     "output_type": "stream",
     "text": [
      "\n",
      "============================================================\n",
      "EVALUATION SUMMARY\n",
      "============================================================\n",
      "assignment_method reporting_method  mean_iroas  std_iroas  mean_ci_width  false_positive_rate  coverage_rate\n",
      "           Random              GBR     -0.0001     0.0074         0.0287                 0.07           0.93\n",
      "           Random     MeanMatching     -3.1265    20.3698        51.9638                 0.05           0.95\n",
      "           Random              SCM     -0.3435     3.1636        22.2912                 0.04           0.96\n",
      "           Random            STGCN      2.5374    24.6962         1.0150                 1.00           0.00\n",
      "           Random              TBR     -0.5037     4.2550         1.6483                 0.14           0.86\n",
      "\n",
      "Notes:\n",
      "- false_positive_rate should be ~0.05 for well-calibrated methods\n",
      "- coverage_rate should be ~0.95 for well-calibrated CIs\n",
      "- Lower mean_ci_width indicates more precise estimates\n",
      "💾 Saved CSV files:\n",
      "  - Detailed results: model_comparison_results/detailed_results_20250725_220316.csv\n",
      "  - Summary results: model_comparison_results/evaluation_summary_20250725_220316.csv\n",
      "📊 Saved 3 plot files to model_comparison_results\n",
      "\n",
      "📈 Summary Results:\n",
      "  assignment_method reporting_method  mean_iroas  std_iroas  mean_ci_width  \\\n",
      "0            Random              GBR     -0.0001     0.0074         0.0287   \n",
      "1            Random     MeanMatching     -3.1265    20.3698        51.9638   \n",
      "2            Random              SCM     -0.3435     3.1636        22.2912   \n",
      "3            Random            STGCN      2.5374    24.6962         1.0150   \n",
      "4            Random              TBR     -0.5037     4.2550         1.6483   \n",
      "\n",
      "   false_positive_rate  coverage_rate  \n",
      "0                 0.07           0.93  \n",
      "1                 0.05           0.95  \n",
      "2                 0.04           0.96  \n",
      "3                 1.00           0.00  \n",
      "4                 0.14           0.86  \n",
      "\n",
      "📊 Creating and displaying results visualizations...\n"
     ]
    },
    {
     "data": {
      "image/png": "[encoded data removed]",
      "text/plain": [
       "<Figure size 1500x1000 with 6 Axes>"
      ]
     },
     "metadata": {},
     "output_type": "display_data"
    },
    {
     "name": "stdout",
     "output_type": "stream",
     "text": [
      "\n",
      "✅ Model performance comparison complete. Check 'model_comparison_results' directory for files.\n"
     ]
    }
   ],
   "source": [
    "# Full Model Performance Comparison\n",
    "print(\"📊 FULL MODEL PERFORMANCE COMPARISON\")\n",
    "print(\"=\"*80)\n",
    "\n",
    "# 1. Setup Experiment Configuration\n",
    "# Using moderate numbers for a reasonable runtime in the playground\n",
    "comparison_config = ExperimentConfig(\n",
    "    n_geos=20,           # Number of geos\n",
    "    n_days=60,           # Total days\n",
    "    pre_period_days=40,  # Pre-period days\n",
    "    eval_period_days=20, # Evaluation period days\n",
    "    n_simulations=10,    # Number of simulations (increase for more robust results)\n",
    "    n_bootstrap=100,     # Bootstrap samples per simulation\n",
    "    seed=42\n",
    ")\n",
    "\n",
    "print(f\"Configuration: {comparison_config.n_simulations} simulations, {comparison_config.n_geos} geos each\")\n",
    "\n",
    "# 2. Initialize ExperimentRunner\n",
    "comparison_runner = ExperimentRunner(comparison_config)\n",
    "\n",
    "# 3. Add all available Reporting Methods\n",
    "# These are already added by default in ExperimentRunner's __init__\n",
    "# but explicitly adding them here for clarity and to ensure all are included\n",
    "from reporting.models import MeanMatchingModel, GBRModel, TBRModel, SyntheticControlModel\n",
    "# comparison_runner.add_reporting_method('MeanMatching', MeanMatchingModel())\n",
    "comparison_runner.add_reporting_method('GBR', GBRModel())\n",
    "comparison_runner.add_reporting_method('TBR', TBRModel())\n",
    "comparison_runner.add_reporting_method('SCM', SyntheticControlModel())\n",
    "comparison_runner.add_reporting_method('STGCN', \n",
    "     STGCNReportingModel(epochs=10, early_stopping_patience=2))\n",
    "\n",
    "# 4. Add selected Assignment Methods\n",
    "from assignment.methods import RandomAssignment, KMeansEmbeddingAssignment\n",
    "comparison_runner.add_assignment_method('Random', RandomAssignment())\n",
    "# comparison_runner.add_assignment_method('K-Means', KMeansEmbeddingAssignment(n_clusters=4))\n",
    "\n",
    "print(f\"Assignment methods: {list(comparison_runner.assignment_methods.keys())}\")\n",
    "print(f\"Reporting methods: {list(comparison_runner.reporting_methods.keys())}\")\n",
    "\n",
    "# 5. Run Full Evaluation\n",
    "print(\"\\n🔄 Running full evaluation (this may take a few minutes)...\")\n",
    "detailed_results, summary_results = comparison_runner.run_full_evaluation(\n",
    "    verbose=True,\n",
    "    save_csv=True,           # Save results as CSV files\n",
    "    save_plots=True,         # Save plots as PNG files\n",
    "    output_dir=\"model_comparison_results\" # Output directory\n",
    ")\n",
    "\n",
    "print(\"\\n📈 Summary Results:\")\n",
    "print(summary_results)\n",
    "\n",
    "# 6. Display Plots\n",
    "print(\"\\n📊 Creating and displaying results visualizations...\")\n",
    "fig = comparison_runner.plot_results(detailed_results)\n",
    "plt.show()\n",
    "\n",
    "print(\"\\n✅ Model performance comparison complete. Check 'model_comparison_results' directory for files.\")\n"
   ]
  },
  {
   "cell_type": "code",
   "execution_count": null,
   "metadata": {},
   "outputs": [],
   "source": [
    "# Quick evaluation with small number of simulations\n",
    "quick_config = ExperimentConfig(\n",
    "    n_geos=25,\n",
    "    n_days=50,\n",
    "    pre_period_days=35,\n",
    "    eval_period_days=15,\n",
    "    n_simulations=20,  # Small for quick testing\n",
    "    n_bootstrap=100,\n",
    "    seed=42\n",
    ")\n",
    "\n",
    "runner = ExperimentRunner(quick_config)\n",
    "detailed_results, summary_results = runner.run_full_evaluation(verbose=True)\n",
    "\n",
    "# Plot results\n",
    "fig = runner.plot_results(detailed_results)\n",
    "plt.show()"
   ]
  },
  {
   "cell_type": "markdown",
   "metadata": {},
   "source": [
    "## Custom Experiments\n",
    "\n",
    "This section is for your own experiments and testing new ideas."
   ]
  },
  {
   "cell_type": "code",
   "execution_count": null,
   "metadata": {},
   "outputs": [],
   "source": [
    "# 🧪 Experiment with different parameter combinations\n",
    "\n",
    "# Example: How does the number of geos affect CI width?\n",
    "geo_counts = [10, 25, 50, 100]\n",
    "ci_widths = []\n",
    "\n",
    "for n_geos in geo_counts:\n",
    "    config = ExperimentConfig(\n",
    "        n_geos=n_geos,\n",
    "        n_days=60,\n",
    "        pre_period_days=40,\n",
    "        eval_period_days=20,\n",
    "        n_simulations=10,  # Small for speed\n",
    "        seed=42\n",
    "    )\n",
    "    \n",
    "    runner = ExperimentRunner(config)\n",
    "    detailed_results, _ = runner.run_full_evaluation(verbose=False)\n",
    "    \n",
    "    avg_ci_width = detailed_results['ci_width'].mean()\n",
    "    ci_widths.append(avg_ci_width)\n",
    "    \n",
    "    print(f\"n_geos={n_geos}: avg CI width = {avg_ci_width:.3f}\")\n",
    "\n",
    "# Plot relationship\n",
    "plt.figure(figsize=(8, 5))\n",
    "plt.plot(geo_counts, ci_widths, 'o-', linewidth=2, markersize=8)\n",
    "plt.xlabel('Number of Geos')\n",
    "plt.ylabel('Average CI Width')\n",
    "plt.title('CI Width vs Number of Geos')\n",
    "plt.grid(True, alpha=0.3)\n",
    "plt.show()"
   ]
  },
  {
   "cell_type": "code",
   "execution_count": null,
   "metadata": {},
   "outputs": [],
   "source": [
    "# 🎯 Your experiments here!\n",
    "\n",
    "# Ideas to try:\n",
    "# 1. Effect of noise level on false positive rates\n",
    "# 2. Optimal pre-period vs evaluation period lengths\n",
    "# 3. Impact of treatment ratio on power\n",
    "# 4. Bootstrap sample size vs CI stability\n",
    "\n",
    "# Example template:\n",
    "# config = ExperimentConfig(\n",
    "#     n_geos=...,\n",
    "#     n_days=...,\n",
    "#     # ... other parameters\n",
    "# )\n",
    "# runner = ExperimentRunner(config)\n",
    "# results = runner.run_single_experiment(show_plots=True)\n",
    "\n",
    "print(\"🚀 Ready for your experiments!\")"
   ]
  },
  {
   "cell_type": "code",
   "execution_count": null,
   "metadata": {},
   "outputs": [],
   "source": [
    "# STGCN vs Traditional Methods Comparison\n",
    "print(\"🏆 STGCN VS TRADITIONAL METHODS COMPARISON\")\n",
    "print(\"=\"*60)\n",
    "\n",
    "# Define all reporting methods for comparison\n",
    "reporting_methods = {\n",
    "    'Mean Matching': MeanMatchingModel(),\n",
    "    'GBR': GBRModel(),\n",
    "    'TBR': TBRModel(), \n",
    "    'Synthetic Control': SyntheticControlModel(),\n",
    "    'STGCN': STGCNReportingModel(\n",
    "        hidden_dim=32,\n",
    "        num_st_blocks=2,\n",
    "        window_size=7,\n",
    "        epochs=15,  # Reduced for demo speed\n",
    "        k_neighbors=4,\n",
    "        device='cpu',\n",
    "        early_stopping_patience=3\n",
    "    )\n",
    "}\n",
    "\n",
    "# Define train/test split\n",
    "pre_period_end = '2024-02-20'  # 50 days for training\n",
    "eval_start = '2024-02-21'     # 20 days for evaluation\n",
    "eval_end = '2024-03-11'\n",
    "\n",
    "print(f\"📋 EXPERIMENTAL SETUP:\")\n",
    "print(f\"• Pre-period: 2024-01-01 to {pre_period_end} ({len(stgcn_panel_df[stgcn_panel_df['date'] < pre_period_end]['date'].unique())} days)\")\n",
    "print(f\"• Evaluation: {eval_start} to {eval_end} ({len(stgcn_panel_df[(stgcn_panel_df['date'] >= eval_start) & (stgcn_panel_df['date'] <= eval_end)]['date'].unique())} days)\")\n",
    "print(f\"• Methods: {list(reporting_methods.keys())}\")\n",
    "\n",
    "# Run comparison\n",
    "results_comparison = {}\n",
    "training_times = {}\n",
    "\n",
    "for method_name, model in reporting_methods.items():\n",
    "    print(f\"\\n🔄 Training {method_name}...\")\n",
    "    \n",
    "    # Time the training\n",
    "    import time\n",
    "    start_time = time.time()\n",
    "    \n",
    "    try:\n",
    "        # Fit model\n",
    "        model.fit(stgcn_panel_df, stgcn_assignment, pre_period_end)\n",
    "        \n",
    "        # Calculate training time\n",
    "        training_time = time.time() - start_time\n",
    "        training_times[method_name] = training_time\n",
    "        \n",
    "        # Generate predictions and calculate iROAS\n",
    "        iroas = model.calculate_iroas(stgcn_panel_df, eval_start, eval_end)\n",
    "        \n",
    "        # Calculate confidence interval (with fewer bootstrap samples for speed)\n",
    "        n_bootstrap = 50 if method_name != 'STGCN' else 20  # Fewer for STGCN due to computational cost\n",
    "        ci_lower, ci_upper = model.confidence_interval(\n",
    "            stgcn_panel_df, eval_start, eval_end, \n",
    "            n_bootstrap=n_bootstrap, seed=42\n",
    "        )\n",
    "        \n",
    "        results_comparison[method_name] = {\n",
    "            'iroas': iroas,\n",
    "            'ci_lower': ci_lower,\n",
    "            'ci_upper': ci_upper,\n",
    "            'ci_width': ci_upper - ci_lower,\n",
    "            'training_time': training_time,\n",
    "            'success': True\n",
    "        }\n",
    "        \n",
    "        print(f\"✅ {method_name}: iROAS={iroas:.4f}, CI=[{ci_lower:.4f}, {ci_upper:.4f}], Time={training_time:.2f}s\")\n",
    "        \n",
    "    except Exception as e:\n",
    "        print(f\"❌ {method_name} failed: {str(e)}\")\n",
    "        results_comparison[method_name] = {\n",
    "            'iroas': np.nan,\n",
    "            'ci_lower': np.nan,\n",
    "            'ci_upper': np.nan,\n",
    "            'ci_width': np.nan,\n",
    "            'training_time': np.nan,\n",
    "            'success': False,\n",
    "            'error': str(e)\n",
    "        }\n",
    "\n",
    "# Create comprehensive comparison visualization\n",
    "fig, axes = plt.subplots(2, 2, figsize=(16, 12))\n",
    "\n",
    "# Extract successful results for plotting\n",
    "successful_methods = {k: v for k, v in results_comparison.items() if v['success']}\n",
    "\n",
    "if len(successful_methods) > 0:\n",
    "    methods = list(successful_methods.keys())\n",
    "    iroas_values = [successful_methods[m]['iroas'] for m in methods]\n",
    "    ci_widths = [successful_methods[m]['ci_width'] for m in methods]\n",
    "    training_times_list = [successful_methods[m]['training_time'] for m in methods]\n",
    "    \n",
    "    # 1. iROAS Estimates Comparison\n",
    "    colors = plt.cm.Set3(np.linspace(0, 1, len(methods)))\n",
    "    bars1 = axes[0, 0].bar(methods, iroas_values, color=colors, alpha=0.8, edgecolor='black')\n",
    "    axes[0, 0].axhline(y=0, color='red', linestyle='--', alpha=0.7, label='True iROAS (null)')\n",
    "    axes[0, 0].set_ylabel('iROAS Estimate')\n",
    "    axes[0, 0].set_title('iROAS Estimates by Method')\n",
    "    axes[0, 0].tick_params(axis='x', rotation=45)\n",
    "    axes[0, 0].grid(True, alpha=0.3)\n",
    "    axes[0, 0].legend()\n",
    "    \n",
    "    # Add value labels on bars\n",
    "    for bar, val in zip(bars1, iroas_values):\n",
    "        height = bar.get_height()\n",
    "        axes[0, 0].text(bar.get_x() + bar.get_width()/2., height + 0.001,\n",
    "                       f'{val:.3f}', ha='center', va='bottom', fontweight='bold')\n",
    "    \n",
    "    # 2. Confidence Interval Widths\n",
    "    bars2 = axes[0, 1].bar(methods, ci_widths, color=colors, alpha=0.8, edgecolor='black')\n",
    "    axes[0, 1].set_ylabel('CI Width')\n",
    "    axes[0, 1].set_title('Confidence Interval Widths\\n(Narrower = More Precise)')\n",
    "    axes[0, 1].tick_params(axis='x', rotation=45)\n",
    "    axes[0, 1].grid(True, alpha=0.3)\n",
    "    \n",
    "    # Add value labels\n",
    "    for bar, val in zip(bars2, ci_widths):\n",
    "        height = bar.get_height()\n",
    "        axes[0, 1].text(bar.get_x() + bar.get_width()/2., height + 0.001,\n",
    "                       f'{val:.3f}', ha='center', va='bottom', fontweight='bold')\n",
    "    \n",
    "    # 3. Training Time Comparison\n",
    "    bars3 = axes[1, 0].bar(methods, training_times_list, color=colors, alpha=0.8, edgecolor='black')\n",
    "    axes[1, 0].set_ylabel('Training Time (seconds)')\n",
    "    axes[1, 0].set_title('Computational Efficiency\\n(Lower = Faster)')\n",
    "    axes[1, 0].tick_params(axis='x', rotation=45)\n",
    "    axes[1, 0].grid(True, alpha=0.3)\n",
    "    axes[1, 0].set_yscale('log')  # Log scale for better visualization\n",
    "    \n",
    "    # Add value labels\n",
    "    for bar, val in zip(bars3, training_times_list):\n",
    "        height = bar.get_height()\n",
    "        axes[1, 0].text(bar.get_x() + bar.get_width()/2., height * 1.1,\n",
    "                       f'{val:.2f}s', ha='center', va='bottom', fontweight='bold')\n",
    "    \n",
    "    # 4. Confidence Intervals Visualization\n",
    "    for i, method in enumerate(methods):\n",
    "        ci_lower = successful_methods[method]['ci_lower']\n",
    "        ci_upper = successful_methods[method]['ci_upper']\n",
    "        iroas_est = successful_methods[method]['iroas']\n",
    "        \n",
    "        # Plot confidence interval as error bar\n",
    "        axes[1, 1].errorbar(i, iroas_est, \n",
    "                           yerr=[[iroas_est - ci_lower], [ci_upper - iroas_est]], \n",
    "                           fmt='o', markersize=8, capsize=10, capthick=2,\n",
    "                           color=colors[i], alpha=0.8, linewidth=3)\n",
    "    \n",
    "    axes[1, 1].axhline(y=0, color='red', linestyle='--', alpha=0.7, label='True iROAS (null)')\n",
    "    axes[1, 1].set_xticks(range(len(methods)))\n",
    "    axes[1, 1].set_xticklabels(methods, rotation=45)\n",
    "    axes[1, 1].set_ylabel('iROAS')\n",
    "    axes[1, 1].set_title('iROAS Estimates with 95% Confidence Intervals')\n",
    "    axes[1, 1].grid(True, alpha=0.3)\n",
    "    axes[1, 1].legend()\n",
    "\n",
    "else:\n",
    "    # All methods failed - show error message\n",
    "    for ax in axes.flat:\n",
    "        ax.text(0.5, 0.5, 'All methods failed to run.\\nCheck error messages above.', \n",
    "               transform=ax.transAxes, ha='center', va='center', fontsize=12)\n",
    "        ax.set_title('No Results Available')\n",
    "\n",
    "plt.tight_layout()\n",
    "plt.show()\n",
    "\n",
    "# Print detailed comparison table\n",
    "print(f\"\\n📊 DETAILED COMPARISON TABLE:\")\n",
    "print(\"=\"*80)\n",
    "print(f\"{'Method':<16} {'iROAS':<8} {'CI Lower':<9} {'CI Upper':<9} {'CI Width':<9} {'Time (s)':<8} {'Status':<10}\")\n",
    "print(\"-\" * 80)\n",
    "\n",
    "for method_name, results in results_comparison.items():\n",
    "    if results['success']:\n",
    "        print(f\"{method_name:<16} {results['iroas']:<8.4f} {results['ci_lower']:<9.4f} {results['ci_upper']:<9.4f} \"\n",
    "              f\"{results['ci_width']:<9.4f} {results['training_time']:<8.2f} {'✅ Success':<10}\")\n",
    "    else:\n",
    "        print(f\"{method_name:<16} {'N/A':<8} {'N/A':<9} {'N/A':<9} {'N/A':<9} {'N/A':<8} {'❌ Failed':<10}\")\n",
    "\n",
    "print(f\"\\n🎯 KEY INSIGHTS:\")\n",
    "print(\"=\"*40)\n",
    "if len(successful_methods) > 0:\n",
    "    best_precision = min(successful_methods.items(), key=lambda x: x[1]['ci_width'])\n",
    "    fastest_method = min(successful_methods.items(), key=lambda x: x[1]['training_time'])\n",
    "    \n",
    "    print(f\"• Most Precise: {best_precision[0]} (CI width: {best_precision[1]['ci_width']:.4f})\")\n",
    "    print(f\"• Fastest Training: {fastest_method[0]} ({fastest_method[1]['training_time']:.2f}s)\")\n",
    "    print(f\"• STGCN captures complex spatio-temporal patterns but requires more computation\")\n",
    "    print(f\"• Traditional methods provide good baselines with fast training\")\n",
    "    print(f\"• All methods should converge around true iROAS of 0 (null effect data)\")\n",
    "else:\n",
    "    print(\"• No successful method runs - check dependencies and data quality\")"
   ]
  },
  {
   "cell_type": "code",
   "execution_count": null,
   "metadata": {},
   "outputs": [],
   "source": [
    "# STGCN Model Comprehensive Demonstration\n",
    "print(\"🧠 STGCN (SPATIO-TEMPORAL GRAPH CONVOLUTIONAL NETWORK) DEMO\")\n",
    "print(\"=\"*80)\n",
    "print(\"Advanced neural network combining spatial graph structure + temporal dynamics\")\n",
    "\n",
    "# Generate test data specifically for STGCN evaluation\n",
    "np.random.seed(2024)\n",
    "n_geos = 16  # Reasonable size for demonstration\n",
    "n_days = 70   # Sufficient for training + evaluation\n",
    "\n",
    "print(f\"\\n📊 DATASET CONFIGURATION:\")\n",
    "print(f\"• Number of geos: {n_geos}\")\n",
    "print(f\"• Total timeline: {n_days} days\")\n",
    "print(f\"• Spatial structure: Simulated geographic coordinates\")\n",
    "print(f\"• Temporal patterns: Trends + seasonality + noise\")\n",
    "\n",
    "# Create geo features with spatial structure\n",
    "stgcn_geo_features = pd.DataFrame({\n",
    "    'geo': [f'geo_{i:03d}' for i in range(n_geos)],\n",
    "    'base_sales': np.random.normal(15000, 4000, n_geos),\n",
    "    'base_spend': np.random.normal(7500, 2000, n_geos),\n",
    "    'covariate': np.random.normal(0, 1.5, n_geos),\n",
    "    # Create spatial coordinates with some geographic clustering\n",
    "    'xy1': np.random.uniform(0, 100, n_geos),\n",
    "    'xy2': np.random.uniform(0, 100, n_geos)\n",
    "})\n",
    "\n",
    "# Create rich panel data with complex temporal patterns\n",
    "dates = pd.date_range('2024-01-01', periods=n_days)\n",
    "stgcn_panel_data = []\n",
    "\n",
    "for _, geo_row in stgcn_geo_features.iterrows():\n",
    "    base_sales = geo_row['base_sales']\n",
    "    base_spend = geo_row['base_spend']\n",
    "    \n",
    "    # Each geo has unique temporal characteristics\n",
    "    trend = np.random.normal(0, 100)  # Linear trend\n",
    "    seasonal_amplitude = np.random.uniform(500, 1500)  # Weekly seasonality strength\n",
    "    monthly_amplitude = np.random.uniform(200, 800)    # Monthly seasonality strength\n",
    "    \n",
    "    for day_idx, date in enumerate(dates):\n",
    "        # Complex temporal pattern\n",
    "        sales = (base_sales + \n",
    "                trend * day_idx +  # Linear trend\n",
    "                seasonal_amplitude * np.sin(2 * np.pi * day_idx / 7) +  # Weekly seasonality\n",
    "                monthly_amplitude * np.sin(2 * np.pi * day_idx / 30) +  # Monthly seasonality\n",
    "                np.random.normal(0, 800))  # Daily noise\n",
    "        \n",
    "        spend = (base_spend + \n",
    "                np.random.normal(0, 500) +  # Spend noise\n",
    "                200 * np.sin(2 * np.pi * day_idx / 7))  # Spend seasonality\n",
    "        \n",
    "        stgcn_panel_data.append({\n",
    "            'geo': geo_row['geo'],\n",
    "            'date': date,\n",
    "            'sales': max(sales, 1000),  # Ensure positive sales\n",
    "            'spend_dollars': max(spend, 500)  # Ensure positive spend\n",
    "        })\n",
    "\n",
    "stgcn_panel_df = pd.DataFrame(stgcn_panel_data)\n",
    "\n",
    "# Create assignment\n",
    "stgcn_assignment = RandomAssignment().assign(stgcn_geo_features, seed=2024)\n",
    "\n",
    "print(f\"• Panel data shape: {stgcn_panel_df.shape}\")\n",
    "print(f\"• Assignment: {(stgcn_assignment['assignment'] == 'treatment').sum()} treatment, {(stgcn_assignment['assignment'] == 'control').sum()} control\")\n",
    "\n",
    "# Visualize the data structure\n",
    "fig, axes = plt.subplots(2, 2, figsize=(15, 10))\n",
    "\n",
    "# 1. Spatial distribution of geos\n",
    "treatment_mask = stgcn_assignment['assignment'] == 'treatment'\n",
    "treatment_geos = stgcn_assignment[treatment_mask]['geo'].values\n",
    "control_geos = stgcn_assignment[~treatment_mask]['geo'].values\n",
    "\n",
    "treatment_coords = stgcn_geo_features[stgcn_geo_features['geo'].isin(treatment_geos)]\n",
    "control_coords = stgcn_geo_features[stgcn_geo_features['geo'].isin(control_geos)]\n",
    "\n",
    "axes[0, 0].scatter(treatment_coords['xy1'], treatment_coords['xy2'], \n",
    "                  c='red', label='Treatment', s=100, alpha=0.8, edgecolor='black')\n",
    "axes[0, 0].scatter(control_coords['xy1'], control_coords['xy2'], \n",
    "                  c='blue', label='Control', s=100, alpha=0.8, edgecolor='black')\n",
    "axes[0, 0].set_xlabel('Spatial X1')\n",
    "axes[0, 0].set_ylabel('Spatial X2')\n",
    "axes[0, 0].set_title('Geographic Distribution of Geos')\n",
    "axes[0, 0].legend()\n",
    "axes[0, 0].grid(True, alpha=0.3)\n",
    "\n",
    "# 2. Time series for a few geos\n",
    "sample_geos = stgcn_geo_features['geo'].iloc[:4].values\n",
    "colors = ['red', 'blue', 'green', 'orange']\n",
    "\n",
    "for i, geo in enumerate(sample_geos):\n",
    "    geo_data = stgcn_panel_df[stgcn_panel_df['geo'] == geo]\n",
    "    axes[0, 1].plot(geo_data['date'], geo_data['sales'], \n",
    "                   label=geo, color=colors[i], alpha=0.8, linewidth=2)\n",
    "\n",
    "axes[0, 1].set_xlabel('Date')\n",
    "axes[0, 1].set_ylabel('Sales')\n",
    "axes[0, 1].set_title('Sales Time Series (Sample Geos)')\n",
    "axes[0, 1].legend()\n",
    "axes[0, 1].tick_params(axis='x', rotation=45)\n",
    "axes[0, 1].grid(True, alpha=0.3)\n",
    "\n",
    "# 3. Sales distribution across geos\n",
    "geo_avg_sales = stgcn_panel_df.groupby('geo')['sales'].mean()\n",
    "axes[1, 0].hist(geo_avg_sales, bins=12, alpha=0.7, color='skyblue', edgecolor='black')\n",
    "axes[1, 0].set_xlabel('Average Sales per Geo')\n",
    "axes[1, 0].set_ylabel('Number of Geos')\n",
    "axes[1, 0].set_title('Distribution of Geo-Level Sales')\n",
    "axes[1, 0].grid(True, alpha=0.3)\n",
    "\n",
    "# 4. Temporal correlation structure\n",
    "daily_totals = stgcn_panel_df.groupby('date')[['sales', 'spend_dollars']].sum()\n",
    "axes[1, 1].scatter(daily_totals['spend_dollars'], daily_totals['sales'], \n",
    "                  alpha=0.7, s=50, color='purple', edgecolor='black')\n",
    "axes[1, 1].set_xlabel('Total Daily Spend')\n",
    "axes[1, 1].set_ylabel('Total Daily Sales')\n",
    "axes[1, 1].set_title('Sales vs Spend Correlation')\n",
    "axes[1, 1].grid(True, alpha=0.3)\n",
    "\n",
    "plt.tight_layout()\n",
    "plt.show()\n",
    "\n",
    "print(f\"\\n📈 DATA CHARACTERISTICS:\")\n",
    "print(f\"• Sales range: ${stgcn_panel_df['sales'].min():.0f} - ${stgcn_panel_df['sales'].max():.0f}\")\n",
    "print(f\"• Sales CV: {stgcn_panel_df['sales'].std() / stgcn_panel_df['sales'].mean():.3f}\")\n",
    "print(f\"• Temporal coverage: {stgcn_panel_df['date'].min().strftime('%Y-%m-%d')} to {stgcn_panel_df['date'].max().strftime('%Y-%m-%d')}\")\n",
    "print(f\"• Geographic spread: X1 [{stgcn_geo_features['xy1'].min():.1f}, {stgcn_geo_features['xy1'].max():.1f}], X2 [{stgcn_geo_features['xy2'].min():.1f}, {stgcn_geo_features['xy2'].max():.1f}]\")"
   ]
  },
  {
   "cell_type": "markdown",
   "metadata": {},
   "source": [
    "## STGCN Model Demonstration\n",
    "\n",
    "Explore the Spatio-Temporal Graph Convolutional Network (STGCN) reporting model - the most advanced method in the framework that combines spatial relationships and temporal dynamics."
   ]
  },
  {
   "cell_type": "markdown",
   "metadata": {},
   "source": [
    "## Development Notes\n",
    "\n",
    "Use this section for notes, debugging, and development work."
   ]
  },
  {
   "cell_type": "code",
   "execution_count": null,
   "metadata": {},
   "outputs": [],
   "source": [
    "# Development and debugging space\n",
    "\n",
    "# Quick data validation\n",
    "config = DataConfig(n_geos=5, n_days=10, seed=999)\n",
    "gen = SimpleNullGenerator(config)\n",
    "panel, features = gen.generate()\n",
    "\n",
    "print(\"Panel data sample:\")\n",
    "print(panel.head())\n",
    "print(f\"\\nPanel shape: {panel.shape}\")\n",
    "print(f\"Features shape: {features.shape}\")\n",
    "print(f\"Validation: {gen.validate_data(panel, features)}\")"
   ]
  }
 ],
 "metadata": {
  "kernelspec": {
   "display_name": "Python 3",
   "language": "python",
   "name": "python3"
  },
  "language_info": {
   "codemirror_mode": {
    "name": "ipython",
    "version": 3
   },
   "file_extension": ".py",
   "mimetype": "text/x-python",
   "name": "python",
   "nbconvert_exporter": "python",
   "pygments_lexer": "ipython3",
   "version": "3.8.0"
  }
 },
 "nbformat": 4,
 "nbformat_minor": 4
}
