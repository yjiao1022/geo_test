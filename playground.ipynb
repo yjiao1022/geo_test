{
 "cells": [
  {
   "cell_type": "markdown",
   "metadata": {},
   "source": [
    "# Geo-Experiment Playground\n",
    "\n",
    "This notebook provides an interactive environment for experimenting with the geo-experiment evaluation framework.\n",
    "\n",
    "## Setup"
   ]
  },
  {
   "cell_type": "code",
   "execution_count": null,
   "metadata": {},
   "outputs": [],
   "source": [
    "import numpy as np\n",
    "import pandas as pd\n",
    "import matplotlib.pyplot as plt\n",
    "import seaborn as sns\n",
    "\n",
    "# Import our modules\n",
    "from data_simulation.generators import SimpleNullGenerator, DataConfig\n",
    "from assignment.methods import RandomAssignment\n",
    "from reporting.models import MeanMatchingModel\n",
    "from evaluation.metrics import EvaluationRunner, EvaluationConfig\n",
    "from diagnostics.plots import DiagnosticPlotter\n",
    "from pipeline.runner import ExperimentRunner\n",
    "from pipeline.config import ExperimentConfig\n",
    "\n",
    "# Set style\n",
    "plt.style.use('default')\n",
    "sns.set_palette('husl')\n",
    "\n",
    "print(\"✅ All modules imported successfully!\")"
   ]
  },
  {
   "cell_type": "markdown",
   "metadata": {},
   "source": [
    "## Quick Start: Single Experiment\n",
    "\n",
    "Let's start with a simple single experiment to understand the framework."
   ]
  },
  {
   "cell_type": "code",
   "execution_count": null,
   "metadata": {},
   "outputs": [],
   "source": [
    "# Create a simple configuration\n",
    "config = ExperimentConfig(\n",
    "    n_geos=20,\n",
    "    n_days=60,\n",
    "    pre_period_days=40,\n",
    "    eval_period_days=20,\n",
    "    seed=42\n",
    ")\n",
    "\n",
    "# Run a single experiment\n",
    "runner = ExperimentRunner(config)\n",
    "results = runner.run_single_experiment(show_plots=True)\n",
    "\n",
    "print(f\"\\n📊 Single Experiment Results:\")\n",
    "print(f\"iROAS Estimate: {results['iroas_estimate']:.4f}\")\n",
    "print(f\"95% CI: [{results['iroas_ci'][0]:.4f}, {results['iroas_ci'][1]:.4f}]\")\n",
    "print(f\"CI Width: {results['ci_width']:.4f}\")\n",
    "print(f\"Significant: {results['significant']}\")"
   ]
  },
  {
   "cell_type": "markdown",
   "metadata": {},
   "source": [
    "## Data Generation Experiments\n",
    "\n",
    "Let's experiment with different data generation parameters."
   ]
  },
  {
   "cell_type": "code",
   "execution_count": null,
   "metadata": {},
   "outputs": [],
   "source": [
    "# Generate data with different noise levels\n",
    "low_noise_config = DataConfig(\n",
    "    n_geos=30,\n",
    "    n_days=90,\n",
    "    daily_sales_noise=100,  # Low noise\n",
    "    seed=123\n",
    ")\n",
    "\n",
    "high_noise_config = DataConfig(\n",
    "    n_geos=30,\n",
    "    n_days=90,\n",
    "    daily_sales_noise=1000,  # High noise\n",
    "    seed=123\n",
    ")\n",
    "\n",
    "# Generate both datasets\n",
    "low_noise_gen = SimpleNullGenerator(low_noise_config)\n",
    "high_noise_gen = SimpleNullGenerator(high_noise_config)\n",
    "\n",
    "panel_low, features_low = low_noise_gen.generate()\n",
    "panel_high, features_high = high_noise_gen.generate()\n",
    "\n",
    "# Compare variability\n",
    "fig, axes = plt.subplots(1, 2, figsize=(15, 5))\n",
    "\n",
    "# Plot time series for first geo\n",
    "geo_low = panel_low[panel_low['geo'] == 'geo_000']\n",
    "geo_high = panel_high[panel_high['geo'] == 'geo_000']\n",
    "\n",
    "axes[0].plot(geo_low['date'], geo_low['sales'], label='Low Noise', alpha=0.8)\n",
    "axes[0].plot(geo_high['date'], geo_high['sales'], label='High Noise', alpha=0.8)\n",
    "axes[0].set_title('Sales Time Series Comparison (geo_000)')\n",
    "axes[0].set_ylabel('Sales')\n",
    "axes[0].legend()\n",
    "axes[0].tick_params(axis='x', rotation=45)\n",
    "\n",
    "# Plot distributions\n",
    "axes[1].hist(panel_low['sales'], alpha=0.6, label='Low Noise', bins=30)\n",
    "axes[1].hist(panel_high['sales'], alpha=0.6, label='High Noise', bins=30)\n",
    "axes[1].set_title('Sales Distribution Comparison')\n",
    "axes[1].set_xlabel('Sales')\n",
    "axes[1].set_ylabel('Frequency')\n",
    "axes[1].legend()\n",
    "\n",
    "plt.tight_layout()\n",
    "plt.show()\n",
    "\n",
    "print(f\"Low noise std: {panel_low['sales'].std():.2f}\")\n",
    "print(f\"High noise std: {panel_high['sales'].std():.2f}\")"
   ]
  },
  {
   "cell_type": "markdown",
   "metadata": {},
   "source": [
    "## Assignment Method Testing\n",
    "\n",
    "Test different assignment strategies and their balance."
   ]
  },
  {
   "cell_type": "code",
   "execution_count": null,
   "metadata": {},
   "outputs": [],
   "source": [
    "# Generate test data\n",
    "data_config = DataConfig(n_geos=50, n_days=60, seed=42)\n",
    "generator = SimpleNullGenerator(data_config)\n",
    "panel_data, geo_features = generator.generate()\n",
    "\n",
    "# Test random assignment with different ratios\n",
    "assignment_method = RandomAssignment()\n",
    "plotter = DiagnosticPlotter()\n",
    "\n",
    "ratios = [0.3, 0.5, 0.7]\n",
    "fig, axes = plt.subplots(1, len(ratios), figsize=(15, 4))\n",
    "\n",
    "for i, ratio in enumerate(ratios):\n",
    "    assignment_df = assignment_method.assign(geo_features, treatment_ratio=ratio, seed=42)\n",
    "    \n",
    "    # Plot balance for key features\n",
    "    merged = geo_features.merge(assignment_df, on='geo')\n",
    "    \n",
    "    sns.boxplot(data=merged, x='assignment', y='base_sales', ax=axes[i])\n",
    "    axes[i].set_title(f'Treatment Ratio: {ratio}')\n",
    "    \n",
    "    # Print summary\n",
    "    treatment_count = (assignment_df['assignment'] == 'treatment').sum()\n",
    "    print(f\"Ratio {ratio}: {treatment_count} treatment, {len(assignment_df) - treatment_count} control\")\n",
    "\n",
    "plt.tight_layout()\n",
    "plt.show()"
   ]
  },
  {
   "cell_type": "markdown",
   "metadata": {},
   "source": [
    "## Model Performance Comparison\n",
    "\n",
    "Run a small evaluation to see how methods perform."
   ]
  },
  {
   "cell_type": "code",
   "execution_count": null,
   "metadata": {},
   "outputs": [],
   "source": [
    "# Quick evaluation with small number of simulations\n",
    "quick_config = ExperimentConfig(\n",
    "    n_geos=25,\n",
    "    n_days=50,\n",
    "    pre_period_days=35,\n",
    "    eval_period_days=15,\n",
    "    n_simulations=20,  # Small for quick testing\n",
    "    n_bootstrap=100,\n",
    "    seed=42\n",
    ")\n",
    "\n",
    "runner = ExperimentRunner(quick_config)\n",
    "detailed_results, summary_results = runner.run_full_evaluation(verbose=True)\n",
    "\n",
    "# Plot results\n",
    "fig = runner.plot_results(detailed_results)\n",
    "plt.show()"
   ]
  },
  {
   "cell_type": "markdown",
   "metadata": {},
   "source": [
    "## Custom Experiments\n",
    "\n",
    "This section is for your own experiments and testing new ideas."
   ]
  },
  {
   "cell_type": "code",
   "execution_count": null,
   "metadata": {},
   "outputs": [],
   "source": [
    "# 🧪 Experiment with different parameter combinations\n",
    "\n",
    "# Example: How does the number of geos affect CI width?\n",
    "geo_counts = [10, 25, 50, 100]\n",
    "ci_widths = []\n",
    "\n",
    "for n_geos in geo_counts:\n",
    "    config = ExperimentConfig(\n",
    "        n_geos=n_geos,\n",
    "        n_days=60,\n",
    "        pre_period_days=40,\n",
    "        eval_period_days=20,\n",
    "        n_simulations=10,  # Small for speed\n",
    "        seed=42\n",
    "    )\n",
    "    \n",
    "    runner = ExperimentRunner(config)\n",
    "    detailed_results, _ = runner.run_full_evaluation(verbose=False)\n",
    "    \n",
    "    avg_ci_width = detailed_results['ci_width'].mean()\n",
    "    ci_widths.append(avg_ci_width)\n",
    "    \n",
    "    print(f\"n_geos={n_geos}: avg CI width = {avg_ci_width:.3f}\")\n",
    "\n",
    "# Plot relationship\n",
    "plt.figure(figsize=(8, 5))\n",
    "plt.plot(geo_counts, ci_widths, 'o-', linewidth=2, markersize=8)\n",
    "plt.xlabel('Number of Geos')\n",
    "plt.ylabel('Average CI Width')\n",
    "plt.title('CI Width vs Number of Geos')\n",
    "plt.grid(True, alpha=0.3)\n",
    "plt.show()"
   ]
  },
  {
   "cell_type": "code",
   "execution_count": null,
   "metadata": {},
   "outputs": [],
   "source": [
    "# 🎯 Your experiments here!\n",
    "\n",
    "# Ideas to try:\n",
    "# 1. Effect of noise level on false positive rates\n",
    "# 2. Optimal pre-period vs evaluation period lengths\n",
    "# 3. Impact of treatment ratio on power\n",
    "# 4. Bootstrap sample size vs CI stability\n",
    "\n",
    "# Example template:\n",
    "# config = ExperimentConfig(\n",
    "#     n_geos=...,\n",
    "#     n_days=...,\n",
    "#     # ... other parameters\n",
    "# )\n",
    "# runner = ExperimentRunner(config)\n",
    "# results = runner.run_single_experiment(show_plots=True)\n",
    "\n",
    "print(\"🚀 Ready for your experiments!\")"
   ]
  },
  {
   "cell_type": "markdown",
   "metadata": {},
   "source": [
    "## Development Notes\n",
    "\n",
    "Use this section for notes, debugging, and development work."
   ]
  },
  {
   "cell_type": "code",
   "execution_count": null,
   "metadata": {},
   "outputs": [],
   "source": [
    "# Development and debugging space\n",
    "\n",
    "# Quick data validation\n",
    "config = DataConfig(n_geos=5, n_days=10, seed=999)\n",
    "gen = SimpleNullGenerator(config)\n",
    "panel, features = gen.generate()\n",
    "\n",
    "print(\"Panel data sample:\")\n",
    "print(panel.head())\n",
    "print(f\"\\nPanel shape: {panel.shape}\")\n",
    "print(f\"Features shape: {features.shape}\")\n",
    "print(f\"Validation: {gen.validate_data(panel, features)}\")"
   ]
  }
 ],
 "metadata": {
  "kernelspec": {
   "display_name": "Python 3",
   "language": "python",
   "name": "python3"
  },
  "language_info": {
   "codemirror_mode": {
    "name": "ipython",
    "version": 3
   },
   "file_extension": ".py",
   "mimetype": "text/x-python",
   "name": "python",
   "nbconvert_exporter": "python",
   "pygments_lexer": "ipython3",
   "version": "3.8.0"
  }
 },
 "nbformat": 4,
 "nbformat_minor": 4
}